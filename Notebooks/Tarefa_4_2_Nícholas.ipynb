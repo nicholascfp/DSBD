{
  "nbformat": 4,
  "nbformat_minor": 0,
  "metadata": {
    "colab": {
      "name": "Intervalos_de_confiança.ipynb",
      "provenance": [],
      "collapsed_sections": []
    },
    "kernelspec": {
      "name": "python3",
      "display_name": "Python 3"
    },
    "language_info": {
      "name": "python"
    }
  },
  "cells": [
    {
      "cell_type": "markdown",
      "source": [
        "# Nícholas César F. Pereira\n",
        "\n",
        "---\n",
        "# Data Science & Big Data\n",
        "---\n",
        "# Tarefa 4.2 - Estimação Intervalar (Intervalos de Confiança)\n",
        "\n",
        "Este notebook mostra como obter um intervalo de confiança para a média populacional utilizando funções matemáticas básicas (manualmente) e por meio das funções do módulo [stats](https://docs.scipy.org/doc/scipy/reference/stats.html?highlight=stats#module-scipy.stats) da biblioteca [Scipy](https://docs.scipy.org/doc/scipy/index.html).\n",
        "\n",
        "---"
      ],
      "metadata": {
        "id": "iuhkdWpWqQhP"
      }
    },
    {
      "cell_type": "markdown",
      "source": [
        "##*1-) De uma amostra aleatória de 50 dias deste ano, os preços dos combustíveis nos EUA tiveram uma média de US$ 4,28.*\n",
        "\n",
        "##*Suponha que o desvio padrão  populacional é de US$ 0,21. Determine o intervalo de confiança (estimativa intervalar) para a média populacional do preço dos combustíveis:*\n",
        "\n",
        "a) Com 95% de confiança;\n",
        "\n",
        "b) Com 99% de confiança;"
      ],
      "metadata": {
        "id": "zuWu8Pnk4dq-"
      }
    },
    {
      "cell_type": "markdown",
      "metadata": {
        "id": "xpAuMVCwfWs8"
      },
      "source": [
        "---\n",
        "## Solução Digitalizada\n",
        "---\n",
        "\n",
        "\n"
      ]
    },
    {
      "cell_type": "markdown",
      "source": [
        ""
      ],
      "metadata": {
        "id": "NwDSrBlvrMn4"
      }
    },
    {
      "cell_type": "markdown",
      "source": [
        "---\n",
        "## Código em Python\n",
        "---"
      ],
      "metadata": {
        "id": "EUM0DDv--s5Y"
      }
    },
    {
      "cell_type": "code",
      "source": [
        "import numpy as np\n",
        "import seaborn as sns\n",
        "import math\n",
        "from scipy import stats\n",
        "from scipy.stats import norm, zscore"
      ],
      "metadata": {
        "id": "D0jBwL3k4jEh"
      },
      "execution_count": 1,
      "outputs": []
    },
    {
      "cell_type": "markdown",
      "source": [
        "## Dados\n"
      ],
      "metadata": {
        "id": "i5oTNYfK1ACx"
      }
    },
    {
      "cell_type": "code",
      "source": [
        "media = 4.280\n",
        "dpp = 0.210\n",
        "n = 50"
      ],
      "metadata": {
        "id": "gn1JqMwQ5hKv"
      },
      "execution_count": 19,
      "outputs": []
    },
    {
      "cell_type": "markdown",
      "source": [
        "item a-)"
      ],
      "metadata": {
        "id": "IvzyIDW0dvwo"
      }
    },
    {
      "cell_type": "code",
      "source": [
        "nca = 0.950\n",
        "\n",
        "# retorna o escore z (valor crítico)\n",
        "za = abs(norm.ppf((1-nca)/2)) # (1-nca) e dividido por 2 (simétrico)\n",
        "Ea = za * (dpp / math.sqrt(n))\n",
        "print('Margin of Error: ')\n",
        "print(str(round(Ea, 3)))\n",
        "\n",
        "lim_inferior = str(round((media - Ea), 3))\n",
        "lim_superior = str(round((media + Ea), 3))\n",
        "print('\\nConfidence Interval Hard Mode: ')\n",
        "print('(' + lim_inferior + ', ' + lim_superior + ')')\n",
        "\n",
        "intervalo = norm.interval(nca, media, dpp/math.sqrt(n))\n",
        "print('\\nConfidence Interval Easy Mode: ')\n",
        "print(intervalo)"
      ],
      "metadata": {
        "id": "MHi_ci8Od5iz",
        "outputId": "4e2f1880-d003-4269-ad08-cbe063d192ec",
        "colab": {
          "base_uri": "https://localhost:8080/"
        }
      },
      "execution_count": 60,
      "outputs": [
        {
          "output_type": "stream",
          "name": "stdout",
          "text": [
            "Margin of Error: \n",
            "0.058\n",
            "\n",
            "Confidence Interval Hard Mode: \n",
            "(4.222, 4.338)\n",
            "\n",
            "Confidence Interval Easy Mode: \n",
            "(4.221792039377314, 4.338207960622687)\n"
          ]
        }
      ]
    },
    {
      "cell_type": "markdown",
      "source": [
        "item b-)"
      ],
      "metadata": {
        "id": "y4aOUAgcd1yU"
      }
    },
    {
      "cell_type": "code",
      "source": [
        "ncb = 0.990\n",
        "\n",
        "# retorna o escore z (valor crítico)\n",
        "zb = abs(norm.ppf((1-ncb)/2)) # (1-nca) e dividido por 2 (simétrico)\n",
        "Eb = zb * (dpp / math.sqrt(n))\n",
        "print('Margin of Error: ')\n",
        "print(str(round(Eb, 3)))\n",
        "\n",
        "lim_inferior = str(round((media - Eb), 3))\n",
        "lim_superior = str(round((media + Eb), 3))\n",
        "print('\\nConfidence Interval Hard Mode: ')\n",
        "print('(' + lim_inferior + ', ' + lim_superior + ')')\n",
        "\n",
        "intervalo = norm.interval(ncb, media, dpp/math.sqrt(n))\n",
        "print('\\nConfidence Interval Easy Mode: ')\n",
        "print(intervalo)"
      ],
      "metadata": {
        "id": "f2lxx8S9d6RX",
        "outputId": "7387fec9-7b71-4952-fdf1-436e38425e7a",
        "colab": {
          "base_uri": "https://localhost:8080/"
        }
      },
      "execution_count": 61,
      "outputs": [
        {
          "output_type": "stream",
          "name": "stdout",
          "text": [
            "Margin of Error: \n",
            "0.076\n",
            "\n",
            "Confidence Interval Hard Mode: \n",
            "(4.204, 4.356)\n",
            "\n",
            "Confidence Interval Easy Mode: \n",
            "(4.203501772555826, 4.356498227444175)\n"
          ]
        }
      ]
    }
  ]
}