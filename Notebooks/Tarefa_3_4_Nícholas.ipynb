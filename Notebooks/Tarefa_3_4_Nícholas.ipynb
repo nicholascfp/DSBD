{
  "nbformat": 4,
  "nbformat_minor": 0,
  "metadata": {
    "colab": {
      "name": "Cópia de Tarefa_3_4.ipynb",
      "provenance": [],
      "collapsed_sections": [],
      "include_colab_link": true
    },
    "kernelspec": {
      "name": "python3",
      "display_name": "Python 3"
    },
    "accelerator": "GPU"
  },
  "cells": [
    {
      "cell_type": "markdown",
      "metadata": {
        "id": "view-in-github",
        "colab_type": "text"
      },
      "source": [
        "<a href=\"https://colab.research.google.com/github/nicholascfp/DSBD/blob/main/Notebooks/Tarefa_3_4_N%C3%ADcholas.ipynb\" target=\"_parent\"><img src=\"https://colab.research.google.com/assets/colab-badge.svg\" alt=\"Open In Colab\"/></a>"
      ]
    },
    {
      "cell_type": "markdown",
      "metadata": {
        "id": "jZM3XREkvOba"
      },
      "source": [
        "---\n",
        "\n",
        "---\n",
        "## Tarefa 3.4 - Análise Exploratória e Estatística Descritiva - Visualização Gráfica\n",
        "\n",
        "Esta tarefa consiste em explorar por meio de métodos de descrição gráfica (visualização de dados) o conjunto de dados *Hourly Wages*.\n",
        "\n",
        "Você deve implementar em Python e responder os itens solicitados abaixo utilizando a biblioteca [Matplotlib](https://matplotlib.org/) e/ou [Seaborn](https://seaborn.pydata.org/) e outras que desejar ou forem necessárias. \n",
        "\n",
        "Exemplos dos gráficos solicitados estão nos links das bibliotecas acima e também no notebook [Visualização_gráfica.ipynb](https://colab.research.google.com/github/malegopc/DSBD/blob/main/Notebooks/Visualização_gráfica.ipynb).\n",
        "\n",
        "---\n",
        "\n",
        "\n",
        "\n",
        "---\n",
        "\n"
      ]
    },
    {
      "cell_type": "markdown",
      "metadata": {
        "id": "IPxitpXn5GFN"
      },
      "source": [
        "## Conjunto de dados *Hourly Wages*\n",
        "\n",
        "Esse conjunto de dados é popularmente empregado para a tarefa de regressão em Machine Learning. Constrói-se e ajusta-se um modelo de aprendizado de máquina para predizer/estimar o salário de um funcionário em função de suas características (anos de estudos, experiência de trabalho, filiação sindical, região, ocupação e sexo). \n",
        "\n",
        "- Número de Instâncias: 534\n",
        "\n",
        "- Número de Atributos: 9 atributos numéricos e o target (*wage_per_hour*)\n",
        "\n",
        "- Informações dos Atributos:\n",
        "  - union (filiação sindical)\n",
        "  - education_yrs (anos de instrução)\n",
        "  - experience_yrs (anos de experiência)\n",
        "  - age (idade)\n",
        "  - female (sexo)\n",
        "  - marr (estado civil - casado)\n",
        "  - south (região)\n",
        "  - manufacturing (indústria)\n",
        "  - construction (construção)\n",
        "\n",
        "  \n",
        "- Variável de destino (target): wage_per_hour \n",
        "\n"
      ]
    },
    {
      "cell_type": "markdown",
      "source": [
        "## Implementar os itens abaixo:"
      ],
      "metadata": {
        "id": "4B33fWHi7rrc"
      }
    },
    {
      "cell_type": "markdown",
      "metadata": {
        "id": "nufGipDieZbc"
      },
      "source": [
        "#### a-) Clonar o repositório de dados da disciplina (DSBD) hospedado no GitHUb.\n",
        "*Obs: Você pode ignorar este item caso realize a tarefa no Jupyter Notebook. O conjunto de dados Hourly Wages pode ser baixado [clicando aqui](https://raw.githubusercontent.com/malegopc/DSBD/main/Datasets/Hourly_wages/hourly_wages.csv)*.\n"
      ]
    },
    {
      "cell_type": "code",
      "metadata": {
        "id": "ZaJpoCYtejnr",
        "colab": {
          "base_uri": "https://localhost:8080/"
        },
        "outputId": "0715ab0c-90ed-4419-e9ab-05a2618b639f"
      },
      "source": [
        "!git clone \"https://github.com/malegopc/DSBD\""
      ],
      "execution_count": 17,
      "outputs": [
        {
          "output_type": "stream",
          "name": "stdout",
          "text": [
            "fatal: destination path 'DSBD' already exists and is not an empty directory.\n"
          ]
        }
      ]
    },
    {
      "cell_type": "markdown",
      "metadata": {
        "id": "4G6UZT6QC_us"
      },
      "source": [
        "#### b-) Ler o dataset \"*Hourly_wages/hourly_wages.csv*\" como dataframe utilizando a biblioteca Pandas e mostrar as 5 primeiras e 5 últimas linhas."
      ]
    },
    {
      "cell_type": "code",
      "metadata": {
        "id": "jGSqUwVE7QvS",
        "colab": {
          "base_uri": "https://localhost:8080/",
          "height": 424
        },
        "outputId": "315a146e-3bc5-42b6-e729-c786b8ccfb33"
      },
      "source": [
        "# Import Libraries\n",
        "import matplotlib.pyplot as plt\n",
        "import seaborn as sbn\n",
        "import numpy as np\n",
        "import pandas as pd\n",
        "\n",
        "# Read Data Files\n",
        "df = pd.read_csv('/content/DSBD/Datasets/Hourly_wages/hourly_wages.csv')\n",
        "# Eliminate null lines\n",
        "df = df.dropna()\n",
        "# Show Data\n",
        "df"
      ],
      "execution_count": 16,
      "outputs": [
        {
          "output_type": "execute_result",
          "data": {
            "text/plain": [
              "     wage_per_hour  union  education_yrs  experience_yrs  age  female  marr  \\\n",
              "0             5.10      0              8              21   35       1     1   \n",
              "1             4.95      0              9              42   57       1     1   \n",
              "2             6.67      0             12               1   19       0     0   \n",
              "3             4.00      0             12               4   22       0     0   \n",
              "4             7.50      0             12              17   35       0     1   \n",
              "..             ...    ...            ...             ...  ...     ...   ...   \n",
              "529          11.36      0             18               5   29       0     0   \n",
              "530           6.10      0             12              33   51       1     1   \n",
              "531          23.25      1             17              25   48       1     1   \n",
              "532          19.88      1             12              13   31       0     1   \n",
              "533          15.38      0             16              33   55       0     1   \n",
              "\n",
              "     south  manufacturing  construction  \n",
              "0        0              1             0  \n",
              "1        0              1             0  \n",
              "2        0              1             0  \n",
              "3        0              0             0  \n",
              "4        0              0             0  \n",
              "..     ...            ...           ...  \n",
              "529      0              0             0  \n",
              "530      0              0             0  \n",
              "531      0              0             0  \n",
              "532      1              0             0  \n",
              "533      0              1             0  \n",
              "\n",
              "[534 rows x 10 columns]"
            ],
            "text/html": [
              "\n",
              "  <div id=\"df-c12eae60-3259-4740-b5a9-f4dfcdadc504\">\n",
              "    <div class=\"colab-df-container\">\n",
              "      <div>\n",
              "<style scoped>\n",
              "    .dataframe tbody tr th:only-of-type {\n",
              "        vertical-align: middle;\n",
              "    }\n",
              "\n",
              "    .dataframe tbody tr th {\n",
              "        vertical-align: top;\n",
              "    }\n",
              "\n",
              "    .dataframe thead th {\n",
              "        text-align: right;\n",
              "    }\n",
              "</style>\n",
              "<table border=\"1\" class=\"dataframe\">\n",
              "  <thead>\n",
              "    <tr style=\"text-align: right;\">\n",
              "      <th></th>\n",
              "      <th>wage_per_hour</th>\n",
              "      <th>union</th>\n",
              "      <th>education_yrs</th>\n",
              "      <th>experience_yrs</th>\n",
              "      <th>age</th>\n",
              "      <th>female</th>\n",
              "      <th>marr</th>\n",
              "      <th>south</th>\n",
              "      <th>manufacturing</th>\n",
              "      <th>construction</th>\n",
              "    </tr>\n",
              "  </thead>\n",
              "  <tbody>\n",
              "    <tr>\n",
              "      <th>0</th>\n",
              "      <td>5.10</td>\n",
              "      <td>0</td>\n",
              "      <td>8</td>\n",
              "      <td>21</td>\n",
              "      <td>35</td>\n",
              "      <td>1</td>\n",
              "      <td>1</td>\n",
              "      <td>0</td>\n",
              "      <td>1</td>\n",
              "      <td>0</td>\n",
              "    </tr>\n",
              "    <tr>\n",
              "      <th>1</th>\n",
              "      <td>4.95</td>\n",
              "      <td>0</td>\n",
              "      <td>9</td>\n",
              "      <td>42</td>\n",
              "      <td>57</td>\n",
              "      <td>1</td>\n",
              "      <td>1</td>\n",
              "      <td>0</td>\n",
              "      <td>1</td>\n",
              "      <td>0</td>\n",
              "    </tr>\n",
              "    <tr>\n",
              "      <th>2</th>\n",
              "      <td>6.67</td>\n",
              "      <td>0</td>\n",
              "      <td>12</td>\n",
              "      <td>1</td>\n",
              "      <td>19</td>\n",
              "      <td>0</td>\n",
              "      <td>0</td>\n",
              "      <td>0</td>\n",
              "      <td>1</td>\n",
              "      <td>0</td>\n",
              "    </tr>\n",
              "    <tr>\n",
              "      <th>3</th>\n",
              "      <td>4.00</td>\n",
              "      <td>0</td>\n",
              "      <td>12</td>\n",
              "      <td>4</td>\n",
              "      <td>22</td>\n",
              "      <td>0</td>\n",
              "      <td>0</td>\n",
              "      <td>0</td>\n",
              "      <td>0</td>\n",
              "      <td>0</td>\n",
              "    </tr>\n",
              "    <tr>\n",
              "      <th>4</th>\n",
              "      <td>7.50</td>\n",
              "      <td>0</td>\n",
              "      <td>12</td>\n",
              "      <td>17</td>\n",
              "      <td>35</td>\n",
              "      <td>0</td>\n",
              "      <td>1</td>\n",
              "      <td>0</td>\n",
              "      <td>0</td>\n",
              "      <td>0</td>\n",
              "    </tr>\n",
              "    <tr>\n",
              "      <th>...</th>\n",
              "      <td>...</td>\n",
              "      <td>...</td>\n",
              "      <td>...</td>\n",
              "      <td>...</td>\n",
              "      <td>...</td>\n",
              "      <td>...</td>\n",
              "      <td>...</td>\n",
              "      <td>...</td>\n",
              "      <td>...</td>\n",
              "      <td>...</td>\n",
              "    </tr>\n",
              "    <tr>\n",
              "      <th>529</th>\n",
              "      <td>11.36</td>\n",
              "      <td>0</td>\n",
              "      <td>18</td>\n",
              "      <td>5</td>\n",
              "      <td>29</td>\n",
              "      <td>0</td>\n",
              "      <td>0</td>\n",
              "      <td>0</td>\n",
              "      <td>0</td>\n",
              "      <td>0</td>\n",
              "    </tr>\n",
              "    <tr>\n",
              "      <th>530</th>\n",
              "      <td>6.10</td>\n",
              "      <td>0</td>\n",
              "      <td>12</td>\n",
              "      <td>33</td>\n",
              "      <td>51</td>\n",
              "      <td>1</td>\n",
              "      <td>1</td>\n",
              "      <td>0</td>\n",
              "      <td>0</td>\n",
              "      <td>0</td>\n",
              "    </tr>\n",
              "    <tr>\n",
              "      <th>531</th>\n",
              "      <td>23.25</td>\n",
              "      <td>1</td>\n",
              "      <td>17</td>\n",
              "      <td>25</td>\n",
              "      <td>48</td>\n",
              "      <td>1</td>\n",
              "      <td>1</td>\n",
              "      <td>0</td>\n",
              "      <td>0</td>\n",
              "      <td>0</td>\n",
              "    </tr>\n",
              "    <tr>\n",
              "      <th>532</th>\n",
              "      <td>19.88</td>\n",
              "      <td>1</td>\n",
              "      <td>12</td>\n",
              "      <td>13</td>\n",
              "      <td>31</td>\n",
              "      <td>0</td>\n",
              "      <td>1</td>\n",
              "      <td>1</td>\n",
              "      <td>0</td>\n",
              "      <td>0</td>\n",
              "    </tr>\n",
              "    <tr>\n",
              "      <th>533</th>\n",
              "      <td>15.38</td>\n",
              "      <td>0</td>\n",
              "      <td>16</td>\n",
              "      <td>33</td>\n",
              "      <td>55</td>\n",
              "      <td>0</td>\n",
              "      <td>1</td>\n",
              "      <td>0</td>\n",
              "      <td>1</td>\n",
              "      <td>0</td>\n",
              "    </tr>\n",
              "  </tbody>\n",
              "</table>\n",
              "<p>534 rows × 10 columns</p>\n",
              "</div>\n",
              "      <button class=\"colab-df-convert\" onclick=\"convertToInteractive('df-c12eae60-3259-4740-b5a9-f4dfcdadc504')\"\n",
              "              title=\"Convert this dataframe to an interactive table.\"\n",
              "              style=\"display:none;\">\n",
              "        \n",
              "  <svg xmlns=\"http://www.w3.org/2000/svg\" height=\"24px\"viewBox=\"0 0 24 24\"\n",
              "       width=\"24px\">\n",
              "    <path d=\"M0 0h24v24H0V0z\" fill=\"none\"/>\n",
              "    <path d=\"M18.56 5.44l.94 2.06.94-2.06 2.06-.94-2.06-.94-.94-2.06-.94 2.06-2.06.94zm-11 1L8.5 8.5l.94-2.06 2.06-.94-2.06-.94L8.5 2.5l-.94 2.06-2.06.94zm10 10l.94 2.06.94-2.06 2.06-.94-2.06-.94-.94-2.06-.94 2.06-2.06.94z\"/><path d=\"M17.41 7.96l-1.37-1.37c-.4-.4-.92-.59-1.43-.59-.52 0-1.04.2-1.43.59L10.3 9.45l-7.72 7.72c-.78.78-.78 2.05 0 2.83L4 21.41c.39.39.9.59 1.41.59.51 0 1.02-.2 1.41-.59l7.78-7.78 2.81-2.81c.8-.78.8-2.07 0-2.86zM5.41 20L4 18.59l7.72-7.72 1.47 1.35L5.41 20z\"/>\n",
              "  </svg>\n",
              "      </button>\n",
              "      \n",
              "  <style>\n",
              "    .colab-df-container {\n",
              "      display:flex;\n",
              "      flex-wrap:wrap;\n",
              "      gap: 12px;\n",
              "    }\n",
              "\n",
              "    .colab-df-convert {\n",
              "      background-color: #E8F0FE;\n",
              "      border: none;\n",
              "      border-radius: 50%;\n",
              "      cursor: pointer;\n",
              "      display: none;\n",
              "      fill: #1967D2;\n",
              "      height: 32px;\n",
              "      padding: 0 0 0 0;\n",
              "      width: 32px;\n",
              "    }\n",
              "\n",
              "    .colab-df-convert:hover {\n",
              "      background-color: #E2EBFA;\n",
              "      box-shadow: 0px 1px 2px rgba(60, 64, 67, 0.3), 0px 1px 3px 1px rgba(60, 64, 67, 0.15);\n",
              "      fill: #174EA6;\n",
              "    }\n",
              "\n",
              "    [theme=dark] .colab-df-convert {\n",
              "      background-color: #3B4455;\n",
              "      fill: #D2E3FC;\n",
              "    }\n",
              "\n",
              "    [theme=dark] .colab-df-convert:hover {\n",
              "      background-color: #434B5C;\n",
              "      box-shadow: 0px 1px 3px 1px rgba(0, 0, 0, 0.15);\n",
              "      filter: drop-shadow(0px 1px 2px rgba(0, 0, 0, 0.3));\n",
              "      fill: #FFFFFF;\n",
              "    }\n",
              "  </style>\n",
              "\n",
              "      <script>\n",
              "        const buttonEl =\n",
              "          document.querySelector('#df-c12eae60-3259-4740-b5a9-f4dfcdadc504 button.colab-df-convert');\n",
              "        buttonEl.style.display =\n",
              "          google.colab.kernel.accessAllowed ? 'block' : 'none';\n",
              "\n",
              "        async function convertToInteractive(key) {\n",
              "          const element = document.querySelector('#df-c12eae60-3259-4740-b5a9-f4dfcdadc504');\n",
              "          const dataTable =\n",
              "            await google.colab.kernel.invokeFunction('convertToInteractive',\n",
              "                                                     [key], {});\n",
              "          if (!dataTable) return;\n",
              "\n",
              "          const docLinkHtml = 'Like what you see? Visit the ' +\n",
              "            '<a target=\"_blank\" href=https://colab.research.google.com/notebooks/data_table.ipynb>data table notebook</a>'\n",
              "            + ' to learn more about interactive tables.';\n",
              "          element.innerHTML = '';\n",
              "          dataTable['output_type'] = 'display_data';\n",
              "          await google.colab.output.renderOutput(dataTable, element);\n",
              "          const docLink = document.createElement('div');\n",
              "          docLink.innerHTML = docLinkHtml;\n",
              "          element.appendChild(docLink);\n",
              "        }\n",
              "      </script>\n",
              "    </div>\n",
              "  </div>\n",
              "  "
            ]
          },
          "metadata": {},
          "execution_count": 16
        }
      ]
    },
    {
      "cell_type": "markdown",
      "source": [
        "#### c-) Mostrar os histogramas dos atributos: *education_yrs*, *experience_yrs* e *age* num mesmo quadro de plotagem (usando *subplots*)."
      ],
      "metadata": {
        "id": "yY9KotjOEkh2"
      }
    },
    {
      "cell_type": "code",
      "source": [
        "plt.subplot(1,3,1) \n",
        "plt.hist(df['education_yrs'], ec=\"black\")\n",
        "plt.xlabel('Education Years')\n",
        "plt.ylabel('Employee')\n",
        "plt.title('First Histogram')\n",
        "\n",
        "plt.subplot(1,3,2) \n",
        "plt.hist(df['experience_yrs'], ec=\"black\")\n",
        "plt.xlabel('Experience Years')\n",
        "plt.ylabel('Employee')\n",
        "plt.title('Second Histogram')\n",
        "\n",
        "plt.subplot(1,3,3) \n",
        "plt.hist(df['age'], ec=\"black\")\n",
        "plt.xlabel('Age')\n",
        "plt.ylabel('Employee')\n",
        "plt.title('Third Histogram')\n",
        "\n",
        "plt.subplots_adjust(left   =    0,\n",
        "                    bottom =    0, \n",
        "                    right  =  3.0, \n",
        "                    top    =  1.0, \n",
        "                    wspace = 0.25, \n",
        "                    hspace = 0.25)\n",
        "\n",
        "plt.show()"
      ],
      "metadata": {
        "id": "s3d8c7phutxN",
        "colab": {
          "base_uri": "https://localhost:8080/",
          "height": 339
        },
        "outputId": "5195cab3-8dca-45fd-9d76-72d796bc1efd"
      },
      "execution_count": 15,
      "outputs": [
        {
          "output_type": "display_data",
          "data": {
            "text/plain": [
              "<Figure size 432x288 with 3 Axes>"
            ],
            "image/png": "[encoded data removed]"
          },
          "metadata": {
            "needs_background": "light"
          }
        }
      ]
    },
    {
      "cell_type": "markdown",
      "metadata": {
        "id": "8Sao1JGYEP2R"
      },
      "source": [
        "#### d-) Mostrar os gráficos de setores (*pie chart*) de cada um dos atributos: *union*, *female*, *marr*, *south*, *manufacturing* e *construction* num mesmo quadro de plotagem (usando subplots)."
      ]
    },
    {
      "cell_type": "code",
      "metadata": {
        "id": "rRbFDx1iDCLq",
        "colab": {
          "base_uri": "https://localhost:8080/",
          "height": 335
        },
        "outputId": "98be1607-d296-41ec-f710-1b810c04916b"
      },
      "source": [
        "union_data = [df['union'].sum(),534 - df['union'].sum()]\n",
        "female_data = [df['female'].sum(),534 - df['female'].sum()]\n",
        "marr_data = [df['marr'].sum(),534 - df['marr'].sum()]\n",
        "south_data = [df['south'].sum(),534 - df['south'].sum()]\n",
        "manufacturing_data = [df['manufacturing'].sum(),534 - df['manufacturing'].sum()]\n",
        "construction_data = [df['construction'].sum(),534 - df['construction'].sum()]\n",
        "description = ['Yes','No']\n",
        "\n",
        "plt.subplot(2,3,1) \n",
        "plt.pie(union_data, labels = description, autopct='%.2f%%', shadow = True, \n",
        "        startangle = 90)\n",
        "plt.title('Union')\n",
        "\n",
        "plt.subplot(2,3,2)\n",
        "plt.pie(female_data, labels = description, autopct='%.2f%%', shadow = True, \n",
        "        startangle = 90) \n",
        "plt.title('Female')\n",
        "\n",
        "plt.subplot(2,3,3)\n",
        "plt.pie(marr_data, labels = description, autopct='%.2f%%', shadow = True, \n",
        "        startangle = 90)\n",
        "plt.title('Married')\n",
        "\n",
        "plt.subplot(2,3,4) \n",
        "plt.pie(south_data, labels = description, autopct='%.2f%%', shadow = True, \n",
        "        startangle = 90) \n",
        "plt.title('South')\n",
        "\n",
        "plt.subplot(2,3,5)\n",
        "plt.pie(manufacturing_data, labels = description, autopct='%.2f%%', shadow = True, \n",
        "        startangle = 90)\n",
        "plt.title('Manufacturing')\n",
        "\n",
        "plt.subplot(2,3,6)\n",
        "plt.pie(construction_data, labels = description, autopct='%.2f%%', shadow = True, \n",
        "        startangle = 90)\n",
        "plt.title('Construction')\n",
        "\n",
        "plt.subplots_adjust(left   =    0,\n",
        "                    bottom =    0, \n",
        "                    right  =  3.0, \n",
        "                    top    =  1.0, \n",
        "                    wspace = 0.25, \n",
        "                    hspace = 0.25)\n",
        "\n",
        "plt.show()"
      ],
      "execution_count": 14,
      "outputs": [
        {
          "output_type": "display_data",
          "data": {
            "text/plain": [
              "<Figure size 432x288 with 6 Axes>"
            ],
            "image/png": "[encoded data removed]"
          },
          "metadata": {}
        }
      ]
    },
    {
      "cell_type": "markdown",
      "metadata": {
        "id": "VccXvtXmOJy7"
      },
      "source": [
        "#### e-) Mostrar os boxplots das variáveis *education_yrs*, *experience_yrs* e *age* num mesmo quadro de plotagem (usando *subplots*)."
      ]
    },
    {
      "cell_type": "code",
      "metadata": {
        "id": "WHpUgIoROTpq",
        "colab": {
          "base_uri": "https://localhost:8080/",
          "height": 330
        },
        "outputId": "76013180-d76c-4b9e-e1d4-c4767ce2d80a"
      },
      "source": [
        "plt.subplot(1,3,1) \n",
        "plt.boxplot(df['education_yrs']) \n",
        "plt.title('Education Years')\n",
        "\n",
        "plt.subplot(1,3,2) \n",
        "plt.boxplot(df['experience_yrs']) \n",
        "plt.title('Experience Years')\n",
        "\n",
        "plt.subplot(1,3,3)\n",
        "plt.boxplot(df['age'])\n",
        "plt.title('Age')\n",
        "\n",
        "plt.subplots_adjust(left   =    0,\n",
        "                    bottom =    0, \n",
        "                    right  =  3.0, \n",
        "                    top    =  1.0, \n",
        "                    wspace = 0.25, \n",
        "                    hspace = 0.25)\n",
        "\n",
        "plt.show()"
      ],
      "execution_count": 13,
      "outputs": [
        {
          "output_type": "display_data",
          "data": {
            "text/plain": [
              "<Figure size 432x288 with 3 Axes>"
            ],
            "image/png": "[encoded data removed]"
          },
          "metadata": {
            "needs_background": "light"
          }
        }
      ]
    },
    {
      "cell_type": "markdown",
      "source": [
        "#### f-) Mostre lado a lado os boxplots da variável *age* discriminados por sexo (female). "
      ],
      "metadata": {
        "id": "6c2QQ18WB5Vb"
      }
    },
    {
      "cell_type": "code",
      "source": [
        "import seaborn as sbn\n",
        "\n",
        "sbn.boxplot(x=\"female\", y=\"age\", hue=\"female\", palette=[\"b\", \"r\"],\n",
        "            data=df)\n",
        "sbn.despine(offset=5, trim=True)"
      ],
      "metadata": {
        "id": "v2ME0aM2CIq8",
        "colab": {
          "base_uri": "https://localhost:8080/",
          "height": 284
        },
        "outputId": "984a8cdc-ed6e-4daa-948a-44f1929b5d2a"
      },
      "execution_count": 12,
      "outputs": [
        {
          "output_type": "display_data",
          "data": {
            "text/plain": [
              "<Figure size 432x288 with 1 Axes>"
            ],
            "image/png": "[encoded data removed]"
          },
          "metadata": {
            "needs_background": "light"
          }
        }
      ]
    },
    {
      "cell_type": "markdown",
      "source": [
        "#### g-) Responda observando os boxplots construídos no item anterior: \n",
        "\n",
        "i-) Qual sexo apresenta maior variabilidade (dispersão) de idade? Resposta: Sexo Feminino\n",
        "\n",
        "ii-) Qual é aproximadamente o 2o. quartil das idades das mulheres? Resposta: 35\n",
        "\n",
        "iii-) Qual é aproximadamente o 1o. quartil das idades dos homens? Resposta: 28\n",
        "\n"
      ],
      "metadata": {
        "id": "oSbT_35-cNTe"
      }
    },
    {
      "cell_type": "markdown",
      "source": [
        "#### h-) Mostre lado a lado os boxplots da variável *wage_per_hour* discriminados por sexo (female). "
      ],
      "metadata": {
        "id": "YP4gk2Krehfs"
      }
    },
    {
      "cell_type": "code",
      "source": [
        "sbn.boxplot(x=\"female\", y=\"wage_per_hour\", hue=\"female\", palette=[\"b\", \"r\"],\n",
        "            data=df)\n",
        "sbn.despine(offset=5, trim=True) "
      ],
      "metadata": {
        "id": "tARE8ePDeqcX",
        "colab": {
          "base_uri": "https://localhost:8080/",
          "height": 284
        },
        "outputId": "5f402a52-a467-40f9-9c77-497683e760b1"
      },
      "execution_count": 11,
      "outputs": [
        {
          "output_type": "display_data",
          "data": {
            "text/plain": [
              "<Figure size 432x288 with 1 Axes>"
            ],
            "image/png": "[encoded data removed]"
          },
          "metadata": {
            "needs_background": "light"
          }
        }
      ]
    },
    {
      "cell_type": "markdown",
      "source": [
        "#### i-) Análise comparativamente os boxplots do item anterior e comente as informações que podem ser exploradas a respeito dos salários por hora de homens e mulhores. Quais conclusões podemos obter?\n",
        "\n",
        "Resposta: O homens possuem, em média, um salário superior ao das mulheres, embora também, tenham uma maior dispersão dos salários."
      ],
      "metadata": {
        "id": "tkE63KqEe7oG"
      }
    },
    {
      "cell_type": "markdown",
      "source": [
        "#### j-) Mostre lado a lado os boxplots da variável wage_per_hour discriminados por estado civil (marr)."
      ],
      "metadata": {
        "id": "xoJJIY4m8csy"
      }
    },
    {
      "cell_type": "code",
      "source": [
        "sbn.boxplot(x=\"marr\", y=\"wage_per_hour\", hue=\"marr\", palette=[\"g\", \"r\"],\n",
        "            data=df)\n",
        "sbn.despine(offset=5, trim=True) "
      ],
      "metadata": {
        "id": "7w-2XYR6-3tY",
        "colab": {
          "base_uri": "https://localhost:8080/",
          "height": 284
        },
        "outputId": "559e9e29-add2-4a69-fba9-5bd21b983d34"
      },
      "execution_count": 10,
      "outputs": [
        {
          "output_type": "display_data",
          "data": {
            "text/plain": [
              "<Figure size 432x288 with 1 Axes>"
            ],
            "image/png": "[encoded data removed]"
          },
          "metadata": {
            "needs_background": "light"
          }
        }
      ]
    },
    {
      "cell_type": "markdown",
      "source": [
        "#### k-) Análise comparativamente os boxplots do item anterior e comente as informações que podem ser exploradas a respeito dos salários por hora de casados e não casados. Quais conclusões podemos obter?\n",
        "\n",
        "Resposta: A média salarial dos funcionaíos casados é maior do que a média dos salários dos solteiros. \n",
        "Além disso, se desconsiderarmos os salários mais discrepantes para ambos cenários, os salários mais altos dos funcionários casados são maiores aos salários mais altos dos funcionários, embora o mesmo se aplique para os salários mais baixo. Em outras palavras, os salários dos casados têm uma maior variação. "
      ],
      "metadata": {
        "id": "UqcFb2rp_ZQO"
      }
    }
  ]
}