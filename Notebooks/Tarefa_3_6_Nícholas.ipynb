{
  "nbformat": 4,
  "nbformat_minor": 0,
  "metadata": {
    "colab": {
      "name": "Untitled0.ipynb",
      "provenance": [],
      "collapsed_sections": [],
      "authorship_tag": "ABX9TyOyPy4+vv2cPeRND80dxE9N",
      "include_colab_link": true
    },
    "kernelspec": {
      "name": "python3",
      "display_name": "Python 3"
    },
    "language_info": {
      "name": "python"
    }
  },
  "cells": [
    {
      "cell_type": "markdown",
      "metadata": {
        "id": "view-in-github",
        "colab_type": "text"
      },
      "source": [
        "<a href=\"https://colab.research.google.com/github/nicholascfp/DSBD/blob/main/Notebooks/Tarefa_3_6_N%C3%ADcholas.ipynb\" target=\"_parent\"><img src=\"https://colab.research.google.com/assets/colab-badge.svg\" alt=\"Open In Colab\"/></a>"
      ]
    },
    {
      "cell_type": "markdown",
      "source": [
        ""
      ],
      "metadata": {
        "id": "YlckzP6i-N0G"
      }
    },
    {
      "cell_type": "markdown",
      "source": [
        "#*Tarefa 3.6 - Projeto 1 - Análise exploratória de dados*\n",
        "\n",
        "##Essa tarefa tem como objetivo principal realizar uma análise exploratória do conjunto de dados abaixo:\n",
        "\n",
        "*   venda_vídeo_games (Links para um site externo.)\n",
        "\n",
        "### O conjunto de dados contém uma lista de videogames com vendas superiores a 100.000 cópias entre os anos de 1986 e 2016. Foi gerado por meio de web scraping pelo vgchartz.com (Links para um site externo.) e apresenta as seguintes variáveis:\n",
        "\n",
        "Nome -  Nome dos jogos\n",
        "\n",
        "Plataforma - Plataforma do lançamento dos jogos (ou seja, PC, PS4, etc.)\n",
        "\n",
        "Ano - Ano de lançamento do jogo\n",
        "\n",
        "Gênero - Gênero do jogo\n",
        "\n",
        "Produtor - Editora/produtora do jogo\n",
        "\n",
        "NA - Vendas na América do Norte (em milhões)\n",
        "\n",
        "EU - Vendas na Europa (em milhões)\n",
        "\n",
        "JP - Vendas no Japão (em milhões)\n",
        "\n",
        "RM - Vendas no resto do mundo (em milhões)\n",
        "\n",
        "Global - Total de vendas mundiais\n",
        "\n",
        "Você deverá construir um notebook em Python atendendo os seguintes requisitos:\n",
        "\n",
        "I.   Empregar ao máximo métodos de visualização gráfica estudados na Unidade 3 - Análise Exploratória e Estatística Descritiva  Baixar Unidade 3 - Análise Exploratória e Estatística Descritivae outros que julgar pertinente;\n",
        "\n",
        "II.   Apresentar minimamente as seguintes análises ou informações:\n",
        "\n",
        "1.   Top 5 dos jogos mais vendidos (considerando todos os anos); (sugestão: df[' '].value_counts())\n",
        "2.   Mostrar a distribuição de frequências (contagem) de todos os gêneros de jogos. Você deve apresentar uma listagem em ordem decrescente (dos gêneros de jogos mais lançados até os menos lançados). Apresente também um gráfico de barras (ou histograma) da distribuição (contagem) dos gêneros em ordem decrescente; (sugestão: df[' '].value_counts()  e sns.countplot(...))\n",
        "3. Número de jogos lançados por ano (mostrar listagem numérica e gráfico);\n",
        "4. Volume de vendas globais por ano (mostrar listagem numérica e gráfico); (sugestão: df.groupby(by=['Ano'])['Global'].sum()\n",
        "5. Volume de vendas globais por gênero (mostrar listagem numérica e gráfico);\n",
        "6. Mostrar a distribuição de frequências (contagem) de todas as plataformas de jogos. Da mesma forma que o item 2 (listagem e gráfico de barras).\n",
        "7. Volume de vendas globais por plataforma (mostrar listagem numérica e gráfico);\n",
        "8. Top 10 das produtoras (pelo número de jogos);\n",
        "9. Mostrar a proporção de venda de cada região (NA, EU, JP, RM) no total da venda global (mostrar por meio de um pie chart);\n",
        "10. orrelação de vendas entre NA, EU, JP, RM e Global (mostrar matriz de correlação e mapa de calor);\n",
        "11. Comparar o volume de vendas por ano das plataformas Xbox One e PS4 (mostre por meio de um gráfico de barras); (sugestão: \n",
        "sns.barplot(x = 'Ano',y = 'Global', hue = 'Plataforma'...)\n",
        "12. Mostrar por meio de boxplots o grau de dispersão em cada ano das vendas globais das plataformas Xbox One e PS4 (mostrar num mesmo plot); (sugestão: sns.boxplot(x='Plataforma', y='Global', hue = 'Ano'...)\n",
        "\n",
        "III. Apresentar outras análises.\n"
      ],
      "metadata": {
        "id": "6xkbGiLl7O8Q"
      }
    },
    {
      "cell_type": "code",
      "execution_count": null,
      "metadata": {
        "id": "nPWu5zIn7M_o"
      },
      "outputs": [],
      "source": [
        ""
      ]
    },
    {
      "cell_type": "code",
      "source": [
        ""
      ],
      "metadata": {
        "id": "4Mo46i4M7OLv"
      },
      "execution_count": null,
      "outputs": []
    },
    {
      "cell_type": "markdown",
      "source": [
        ""
      ],
      "metadata": {
        "id": "wxh7Es6d7Pbd"
      }
    }
  ]
}