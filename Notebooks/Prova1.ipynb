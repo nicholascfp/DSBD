{
  "nbformat": 4,
  "nbformat_minor": 0,
  "metadata": {
    "colab": {
      "name": "Prova1.ipynb",
      "provenance": [],
      "collapsed_sections": [],
      "include_colab_link": true
    },
    "kernelspec": {
      "name": "python3",
      "display_name": "Python 3"
    },
    "language_info": {
      "name": "python"
    }
  },
  "cells": [
    {
      "cell_type": "markdown",
      "metadata": {
        "id": "view-in-github",
        "colab_type": "text"
      },
      "source": [
        "<a href=\"https://colab.research.google.com/github/nicholascfp/DSBD/blob/main/Notebooks/Prova1.ipynb\" target=\"_parent\"><img src=\"https://colab.research.google.com/assets/colab-badge.svg\" alt=\"Open In Colab\"/></a>"
      ]
    },
    {
      "cell_type": "markdown",
      "metadata": {
        "id": "xpAuMVCwfWs8"
      },
      "source": [
        "\n",
        "---\n",
        "\n",
        "---\n",
        "# PROVA 1 - 20 PONTOS - DSBD\n",
        "\n",
        "Neste notebook constam as 5 questões da Prova 1 da disciplina de *Data Science e Big Data*.\n",
        "\n",
        "* As questões devem ser respondidas nos espaços já alocados para suas respectivas respostas.\n",
        "\n",
        "* Os materiais da disciplina podem ser consultados.\n",
        "\n",
        "* **Não é permitido qualquer tipo de interação com outros(as) colegas de sala durante a realização da prova.**\n",
        "\n",
        "* **Você deve submeter o notebook respondido/executado no link da tarefa do Canvas até às 20:40h** *(não esqueça que o tempo de duração da prova é também um critério de avaliação!).*\n",
        "\n",
        "*Boa Prova!*\n",
        "\n",
        "---\n",
        "\n",
        "---\n",
        "\n",
        "\n",
        "\n",
        "\n",
        "\n"
      ]
    },
    {
      "cell_type": "markdown",
      "source": [
        "\n",
        "\n",
        "---\n",
        "\n",
        "#**Questão 1**\n",
        "\n",
        "---\n",
        "\n"
      ],
      "metadata": {
        "id": "vqfeymMWVOch"
      }
    },
    {
      "cell_type": "markdown",
      "source": [
        "###**Assinale com V (*Verdadeiro*) ou F (*Falso*) cada uma das seguintes afirmações:**\n",
        "\n",
        "\n",
        "\n",
        "( ) A ciência de dados é um campo interdisciplinar que engloba estatística, análise de dados, computação e seus métodos relacionados para entender e analisar fenômenos reais que envolvem dados.\n",
        "\n",
        "( ) As características do Big Data podem ser descritas por meio de 5 V´s: volume, variedade, velocidade, valor e veracidade.\n",
        "\n",
        "( ) A maior parte do Big Data é de natureza estruturada ou semiestruturada.\n",
        "\n",
        "( ) O Big Data não pode ser analisado com eficiência usando apenas bancos de dados ou métodos tradicionais devido ao seu volume e variedade de dados.\n",
        "\n",
        "( ) A área considerada como \"perigosa\" no diagrama de Venn da Ciência de Dados é aquela em que as pessoas conhecem bem o domínio de aplicação, e provavelmente dominam alguma linguagem de programação (como Pyhton) para aplicar uma regressão linear e relatar os coeficientes, mas elas não entendem o que esses coeficientes significam.\n",
        "\n",
        "( ) Dentre as etapas do processo de Ciência de Dados podemos citar a Análise Exploratória de dados, que aplica principalmente estatística inferencial e técnicas de visualização de dados.\n",
        "\n",
        "( ) Na etapa de modelagem de dados são aplicados e avaliados métodos de aprendizado de máquina e de aprendizado profundo.\n",
        "\n",
        "( ) O Engenheiro de Dados usa suas habilidades ​​em matemática, estatística, ciência da computação e programação para limpar, tratar e organizar os dados para descobrir padrões “escondidos” neles; e o Cientista de Dados é responsável ​​por projetar, construir, integrar e manter dados de várias fontes.\n",
        "\n"
      ],
      "metadata": {
        "id": "NG-DKDK2VVr-"
      }
    },
    {
      "cell_type": "markdown",
      "source": [
        "---\n",
        "\n",
        "#**Questão 2**\n",
        "\n",
        "---"
      ],
      "metadata": {
        "id": "ee71PMFVXZQP"
      }
    },
    {
      "cell_type": "markdown",
      "source": [
        "Nesta questão você deverá utilizar o conjunto de dados [Churn_Modelling.csv](https://raw.githubusercontent.com/malegopc/DSBD/main/Datasets/Churn/Churn_Modelling.csv) armazenado no [github da disciplina](https://github.com/malegopc/DSBD).\n",
        "\n",
        "O conjunto de dados possui as seguintes características:\n",
        "\n",
        "Número de Instâncias: 10.000\n",
        "\n",
        "Número de Atributos: 13 atributos (incluindo o target)\n",
        "\n",
        "Informações dos Atributos:\n",
        "\n",
        "* CustomerId (identificação do cliente)\n",
        "* Surname (sobrenome)\n",
        "* CreditScore (pontuação de crédito)\n",
        "* Geography (nacionalidade)\n",
        "* Gender (sexo)\n",
        "* Age (idade)\n",
        "* Tenure (propriedades)\n",
        "* Balance (saldo)\n",
        "* NumOfProducts (número de produtos)\n",
        "* HasCrCard (cartão de crédito)\n",
        "* IsActiveMember (membro ativo)\n",
        "* EstimatedSalary (salário estimado)\n",
        "* Exited (variável de destino - target)"
      ],
      "metadata": {
        "id": "aDBl4AlaZiR7"
      }
    },
    {
      "cell_type": "markdown",
      "source": [
        "#Implementar os itens abaixo:\n",
        "\n"
      ],
      "metadata": {
        "id": "Tn-Equpnb8g3"
      }
    },
    {
      "cell_type": "markdown",
      "source": [
        "a-) Verificar se há dados vazios (null) e imprimir o tipo de cada variável/atributo."
      ],
      "metadata": {
        "id": "gmKmz0TtcCsz"
      }
    },
    {
      "cell_type": "code",
      "source": [
        ""
      ],
      "metadata": {
        "id": "h5ILGDG3cIyD"
      },
      "execution_count": null,
      "outputs": []
    },
    {
      "cell_type": "markdown",
      "source": [
        "b-) Obter um resumo da estatística descritiva dos dados utilizando um único comando (função)."
      ],
      "metadata": {
        "id": "KWQYPnTKcJPo"
      }
    },
    {
      "cell_type": "code",
      "source": [
        ""
      ],
      "metadata": {
        "id": "zC5cmh_XcNa3"
      },
      "execution_count": null,
      "outputs": []
    },
    {
      "cell_type": "markdown",
      "source": [
        "c-) Calcule a proporção de clientes de sexo masculino e feminino."
      ],
      "metadata": {
        "id": "xxbXDF-pcNxP"
      }
    },
    {
      "cell_type": "code",
      "source": [
        ""
      ],
      "metadata": {
        "id": "zxAAqWuBcXLX"
      },
      "execution_count": null,
      "outputs": []
    },
    {
      "cell_type": "markdown",
      "source": [
        "d-) Calcule a média das idades dos clientes."
      ],
      "metadata": {
        "id": "LfZfReQScim2"
      }
    },
    {
      "cell_type": "code",
      "source": [
        ""
      ],
      "metadata": {
        "id": "wXbGK7Jkc6gf"
      },
      "execution_count": null,
      "outputs": []
    },
    {
      "cell_type": "markdown",
      "source": [
        "e-) Calcule a mediana da variável \"Tenure\" (propriedades)."
      ],
      "metadata": {
        "id": "LlylHXbic7QJ"
      }
    },
    {
      "cell_type": "code",
      "source": [
        ""
      ],
      "metadata": {
        "id": "KDP8SueXdJmd"
      },
      "execution_count": null,
      "outputs": []
    },
    {
      "cell_type": "markdown",
      "source": [
        "f-)  Calcule o 3o. quartil da variável \"NumOfProducts\" (número de produtos) e explique o que esse resultado quer dizer."
      ],
      "metadata": {
        "id": "LM2oVYiwcYwh"
      }
    },
    {
      "cell_type": "code",
      "source": [
        ""
      ],
      "metadata": {
        "id": "k724V-9reL7m"
      },
      "execution_count": null,
      "outputs": []
    },
    {
      "cell_type": "markdown",
      "source": [
        "g-) Calcule o percentil 10 da variável \"Tenure\" (propriedades) e explique o que esse resultado quer dizer."
      ],
      "metadata": {
        "id": "GSag02IxeOYe"
      }
    },
    {
      "cell_type": "code",
      "source": [
        ""
      ],
      "metadata": {
        "id": "VjSZ7fz8fvAM"
      },
      "execution_count": null,
      "outputs": []
    },
    {
      "cell_type": "markdown",
      "source": [
        "h-) Qual das duas variáveis apresenta maior dispersão (variabilidade): \"Tenure\" (propriedades) ou \"EstimatedSalary\" (salário estimado). Justifique a sua resposta."
      ],
      "metadata": {
        "id": "4-lJsKrYfvjx"
      }
    },
    {
      "cell_type": "code",
      "source": [
        ""
      ],
      "metadata": {
        "id": "jPNnG6IJgkDP"
      },
      "execution_count": null,
      "outputs": []
    },
    {
      "cell_type": "markdown",
      "source": [
        "---\n",
        "\n",
        "#**Questão 3**\n",
        "\n",
        "---"
      ],
      "metadata": {
        "id": "1CIP9PQJgzR2"
      }
    },
    {
      "cell_type": "markdown",
      "source": [
        "Nesta questão você deve continuar utilizando o conjunto de dados [Churn_Modelling.csv](https://raw.githubusercontent.com/malegopc/DSBD/main/Datasets/Churn/Churn_Modelling.csv) da questão anterior.\n"
      ],
      "metadata": {
        "id": "t0Abpu-Kg1Dk"
      }
    },
    {
      "cell_type": "markdown",
      "source": [
        "#Implementar os itens abaixo:"
      ],
      "metadata": {
        "id": "IlTg-xPVhD3N"
      }
    },
    {
      "cell_type": "markdown",
      "source": [
        "a-) Mostrar os histogramas das variáveis: \"Geography\", \"Gender\" e\t\"Age\" num mesmo quadro de plotagem (usando subplots)."
      ],
      "metadata": {
        "id": "-kqEJjhygv5t"
      }
    },
    {
      "cell_type": "code",
      "source": [
        ""
      ],
      "metadata": {
        "id": "OgSe9Ca3i_5a"
      },
      "execution_count": null,
      "outputs": []
    },
    {
      "cell_type": "markdown",
      "source": [
        "b-) Mostrar os gráficos de setores (pie chart) de cada um das variáveis: \"HasCrCard\", \"IsActiveMember\" e \"Geography\" num mesmo quadro de plotagem (usando subplots).\n"
      ],
      "metadata": {
        "id": "UjRSP4hSjHBe"
      }
    },
    {
      "cell_type": "code",
      "source": [
        ""
      ],
      "metadata": {
        "id": "NSyNeXDfjkjm"
      },
      "execution_count": null,
      "outputs": []
    },
    {
      "cell_type": "markdown",
      "source": [
        "c-) Mostre lado a lado os boxplots da variável \"EstimatedSalary\" (salário estimado) discriminados por sexo (\"Gender\")."
      ],
      "metadata": {
        "id": "Cq5SqPh7kBx-"
      }
    },
    {
      "cell_type": "code",
      "source": [
        ""
      ],
      "metadata": {
        "id": "_ttA9OjdlNQi"
      },
      "execution_count": null,
      "outputs": []
    },
    {
      "cell_type": "markdown",
      "source": [
        "d-) Análise comparativamente os boxplots do item anterior e comente as informações que podem ser exploradas. Quais conclusões podemos obter?\n",
        "\n",
        "Resposta: "
      ],
      "metadata": {
        "id": "MeQbcF-ElNoM"
      }
    },
    {
      "cell_type": "markdown",
      "source": [
        "e-) Mostre lado a lado os boxplots da variável \"CreditScore\" (pontuação de crédito) discriminados por nacionalidade (\"Geography\")."
      ],
      "metadata": {
        "id": "r_56jAuul3Np"
      }
    },
    {
      "cell_type": "code",
      "source": [
        ""
      ],
      "metadata": {
        "id": "xmhhcYwSmItl"
      },
      "execution_count": null,
      "outputs": []
    },
    {
      "cell_type": "markdown",
      "source": [
        "f-) Análise comparativamente os boxplots do item anterior e comente as informações que podem ser exploradas. Quais conclusões podemos obter?\n",
        "\n",
        "Resposta: "
      ],
      "metadata": {
        "id": "6KAOR_eGmKO3"
      }
    },
    {
      "cell_type": "markdown",
      "source": [
        "g-) Verifique existe alguma correlação entre as variáveis \"EstimatedSalary\" (salário estimado) e \"NumOfProducts\" (número de produtos). Justifique a sua resposta."
      ],
      "metadata": {
        "id": "g69G4z0JmwXv"
      }
    },
    {
      "cell_type": "code",
      "source": [
        ""
      ],
      "metadata": {
        "id": "n-3MpMYXqxc0"
      },
      "execution_count": null,
      "outputs": []
    },
    {
      "cell_type": "markdown",
      "source": [
        "---\n",
        "\n",
        "#**Questão 4**\n",
        "\n",
        "---"
      ],
      "metadata": {
        "id": "VdeTuwp5q2_O"
      }
    },
    {
      "cell_type": "markdown",
      "source": [
        "O tempo de instalação de um software tem distribuição normal com média de 6 minutos e variância de 4 minutos.\n",
        "\n",
        "#Calcule os itens abaixo:\n"
      ],
      "metadata": {
        "id": "5EgCD85uq5om"
      }
    },
    {
      "cell_type": "markdown",
      "source": [
        "a-) A probabilidade de que um software leve\n",
        "entre 5 e 7 minutos para ser instalado."
      ],
      "metadata": {
        "id": "Jpb3EgMns7e5"
      }
    },
    {
      "cell_type": "code",
      "source": [
        ""
      ],
      "metadata": {
        "id": "Wit84HHitWsS"
      },
      "execution_count": null,
      "outputs": []
    },
    {
      "cell_type": "markdown",
      "source": [
        "b-) A probabilidade de que um software leve mais que 6,5 minutos para ser instalado."
      ],
      "metadata": {
        "id": "OdHvobbitXMj"
      }
    },
    {
      "cell_type": "code",
      "source": [
        ""
      ],
      "metadata": {
        "id": "eD1k0tfItmNg"
      },
      "execution_count": null,
      "outputs": []
    },
    {
      "cell_type": "markdown",
      "source": [
        "c-) A probabilidade de que um software leve menos que 5 minutos para ser instalado."
      ],
      "metadata": {
        "id": "ZPaB8sBCtljH"
      }
    },
    {
      "cell_type": "markdown",
      "source": [
        "---\n",
        "\n",
        "#**Questão 5**\n",
        "\n",
        "---"
      ],
      "metadata": {
        "id": "g9uq8rpStw-y"
      }
    },
    {
      "cell_type": "markdown",
      "source": [
        "a-) Gere e imprima um conjunto de 5000 valores distribuídos normalmente com média e desvio-padrão a sua escolha. "
      ],
      "metadata": {
        "id": "9i7UG1povS1Q"
      }
    },
    {
      "cell_type": "code",
      "source": [
        ""
      ],
      "metadata": {
        "id": "WTNmgpffv51n"
      },
      "execution_count": null,
      "outputs": []
    },
    {
      "cell_type": "markdown",
      "source": [
        "b-) Plote o histograma do conjunto de dados gerado no item a-)."
      ],
      "metadata": {
        "id": "FeVYp16Mv6PI"
      }
    },
    {
      "cell_type": "code",
      "source": [
        ""
      ],
      "metadata": {
        "id": "jIPCGn7fwhvV"
      },
      "execution_count": null,
      "outputs": []
    },
    {
      "cell_type": "markdown",
      "source": [
        "c-) Considerando o conjunto gerado no item a-) como uma amostra de uma população, encontre uma estimativa intervalar para a média populacional com nível de confiança igual a 95%.\n"
      ],
      "metadata": {
        "id": "v93kdzLhwiLC"
      }
    },
    {
      "cell_type": "code",
      "source": [
        ""
      ],
      "metadata": {
        "id": "4IvVDHbRxGAt"
      },
      "execution_count": null,
      "outputs": []
    }
  ]
}