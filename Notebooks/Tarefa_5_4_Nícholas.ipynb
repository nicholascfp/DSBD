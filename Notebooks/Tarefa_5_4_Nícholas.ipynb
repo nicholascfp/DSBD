{
  "nbformat": 4,
  "nbformat_minor": 0,
  "metadata": {
    "colab": {
      "name": "Untitled2.ipynb",
      "provenance": [],
      "authorship_tag": "ABX9TyNKg+GzapkbBBlKD3+LVu0c",
      "include_colab_link": true
    },
    "kernelspec": {
      "name": "python3",
      "display_name": "Python 3"
    },
    "language_info": {
      "name": "python"
    },
    "accelerator": "GPU",
    "gpuClass": "standard"
  },
  "cells": [
    {
      "cell_type": "markdown",
      "metadata": {
        "id": "view-in-github",
        "colab_type": "text"
      },
      "source": [
        "<a href=\"https://colab.research.google.com/github/nicholascfp/DSBD/blob/main/Notebooks/Tarefa_5_4_N%C3%ADcholas.ipynb\" target=\"_parent\"><img src=\"https://colab.research.google.com/assets/colab-badge.svg\" alt=\"Open In Colab\"/></a>"
      ]
    },
    {
      "cell_type": "markdown",
      "source": [
        "---\n",
        "\n",
        "---\n",
        "## Tarefa 5.1 - Pré-processamento de um conjunto de dados\n",
        "\n",
        "A presente tarefa tem como objetivo realizar o pré-processamento do conjunto de dados \"Churn_Modelling_2.csv\" de modo que ele fique perfeitamente adequado para aplicarmos um dos modelos de Aprendizado de Máquina que estudaremos adiante.\n",
        "\n",
        "O conjunto de dados \"Churn_Modelling_2.csv\" contém detalhes dos clientes de um banco com uma variável de destino binária (\"Exited\") que reflete o fato de o cliente ter deixado o banco (encerrado sua conta) ou não.\n",
        "\n",
        "Você deve construir um notebook para realizar os procedimentos abaixo sobre o conjunto de dados em questão. Tais procedimentos abordam a leitura do arquivo disponível no repositório GitHub da disciplina, seleção de variáveis, codificação de variáveis categóricas (strings), escalonamento de dados e separação de conjuntos de dados de treino e de teste.\n",
        "\n",
        "Abra um novo notebook e implemente os seguintes passos:\n",
        "\n",
        "1. Faça a leitura do arquivo \"Churn_Modelling_2.csv (Links para um site externo.)\" disponível na pasta \"Churn (Links para um site externo.)\" no repositório GitHub da disciplina (Links para um site externo.) e armazene numa variável como um dataframe;\n",
        "\n",
        "2. Elimine instâncias (linhas) com dados ausentes para a variável \"IsActiveMember\".\n",
        "\n",
        "3. Faça a imputação dos dados ausentes para a variável \"NumOfProducts\" utilizando a média da variável.\n",
        "\n",
        "4. Crie uma variável (array) X que contenha os valores apenas dos atributos/colunas de \"CreditScore\" a \"EstimatedSalary\" utilizando a função \"iloc\" do Pandas. Em outras palavras, crie uma variável X que receba o dataframe inteiro exceto as 3 primeiras colunas e a última. Observe que as 3 primeiras colunas \"RowNumber\", \"CustomerId\" e \"Surname\" não são importantes e devem ser descartadas. E a última coluna (\"Exited\") será a variável destino (\"target\" ou saída) que será criada no próximo passo;\n",
        "\n",
        "5. Crie uma variável (array) y que contenha apenas a última coluna  (\"Exited\"). Esta é a variável destino (\"target\" ou saída);\n",
        "\n",
        "6. Codifique a coluna/variável categórica \"Geography\" como numérica utilizando a classe LabelEncoder da biblioteca scikit-learn;\n",
        "\n",
        "7. Codifique a coluna/variável categórica \"Gender\" como numérica utilizando a classe LabelEncoder da biblioteca scikit-learn;\n",
        "\n",
        "8. Após executar o passo 6, transforme os dados da variável \"Geography\" para a forma binária utilizando a classe OneHotEncoder da biblioteca scikit-learn eliminando redundância, ou seja, aplicando a codificação de variáveis dummy. Observe que há apenas 3 países (categorias) diferentes. Atenção: esse talvez seja o passo mais difícil da tarefa. Você deve transformar o resultado da variável/coluna \"Geography\" obtido no passo 4 para o formato binário (one-hot) de modo que fique representado por apenas duas colunas (de 0s e 1s). Além disso, essas duas novas colunas devem permanecer na mesma variável X. Dica: verifique a utilização da função make_column_transformer (Links para um site externo.) da biblioteca scikit-learn;\n",
        "\n",
        "9. Divida as variáveis X e y em dados de treino e de teste utilizando o método \"train_test_split\", gerando as variáveis X_train, X_test, y_train e y_test. Você define a proporção de dados de treino e de teste;\n",
        "\n",
        "10. Faça a padronização (escalonamento) dos dados das variáveis X_train e X_test utilizando a classe StandardScaler do scikit-learn;\n",
        "\n",
        "11. Execute todo o código e submeta o arquivo do notebook aqui na tarefa.\n",
        "\n",
        "---\n",
        "\n",
        "\n",
        "\n",
        "---\n",
        "\n",
        "#Tarefa 5.2 - Aplicação de diferentes algoritmos de AM numa tarefa de predição (classificação) Churn - Churn_Modelling\n",
        "\n",
        "\n",
        "A presente tarefa consiste em aplicar diferentes algoritmos de AM para prever (classificar) quando um cliente irá parar de utilizar o serviço de um banco utilizando a base de dados \"Churn_Modelling_2.csv (Links para um site externo.)\" disponível na pasta \"Churn (Links para um site externo.)\" no repositório GitHub da disciplina (Links para um site externo.).\n",
        "\n",
        "Trata-se de um problema de classificação binária.\n",
        "\n",
        "A saída de um modelo de churn preditivo é uma medida do risco imediato ou futuro de cancelamento de um cliente com base no seu perfil.\n",
        "\n",
        "Conjunto de dados (características):\n",
        "\n",
        "Número de Instâncias: 10.000\n",
        "\n",
        "Número de Atributos: 13 atributos (incluindo o target)\n",
        "\n",
        "Informações dos Atributos:\n",
        "\n",
        "- RowNumber\n",
        "- CustomerId\n",
        "- Surname\n",
        "- CreditScore\n",
        "- Geography\n",
        "- Gender Age\n",
        "- Tenure\n",
        "- Balance\n",
        "- NumOfProducts\n",
        "- HasCrCard\n",
        "- IsActiveMember\n",
        "- EstimatedSalary\n",
        "- Exited (variável de destino - target)\n",
        "\n",
        "Observações:\n",
        "\n",
        "1-) Os dados devem ser pré-processados (recuperar o que foi feito na Tarefa 5.1;\n",
        "\n",
        "2-) Divida o conjunto de dados em treino (75%) e teste (25%);\n",
        "\n",
        "3-)  Você deve aplicar os seguintes algoritmos de AM: \n",
        "- Regressão Logística\n",
        "- KNN - K-Nearest Neighbors (k-vizinhos mais próximos)\n",
        "- SVM - Support Vector Machines (Máquinas de Vetores de Suporte)\n",
        "- Random Forest \n",
        "\n",
        "4-) Mostrar a taxa de acerto e a matriz de confusão de cada algoritmo de AM.\n",
        "\n",
        "---\n",
        "\n",
        "\n",
        "---\n",
        "\n",
        "# Tarefa 5.4 - Redes Neurais MLP com Keras/TensorFlow: predição Churn - Churn_Modelling\n",
        "\n",
        "A presente tarefa consiste em implementar um modelo de aprendizado profundo (rede neural) para prever (classificar) quando um cliente irá parar de utilizar o serviço de um banco utilizando a base de dados \"Churn_Modelling\" (Links para um site externo.). Trata-se de um problema de classificação binária.\n",
        "\n",
        "A saída de um modelo de churn preditivo é uma medida do risco imediato ou futuro de cancelamento de um cliente com base no seu perfil.\n",
        "\n",
        "Conjunto de dados (características):\n",
        "\n",
        "Número de Instâncias: 10.000\n",
        "\n",
        "Número de Atributos: 13 atributos (incluindo o target)\n",
        "\n",
        "Informações dos Atributos:\n",
        "\n",
        "- RowNumber\n",
        "- CustomerId\n",
        "- Surname\n",
        "- CreditScore\n",
        "- Geography\n",
        "- Gender Age\n",
        "- Tenure\n",
        "- Balance\n",
        "- NumOfProducts\n",
        "- HasCrCard\n",
        "- IsActiveMember\n",
        "- EstimatedSalary\n",
        "- Exited (variável de destino - target)\n",
        "\n",
        "Observações:\n",
        "\n",
        "1-) Os 3 primeiros atributos devem ser excluídos (RowNumber, CustomerId e Surname)\n",
        "\n",
        "2-) Os dados devem ser pré-processados (recuperar o que foi feito na Tarefa 5.1) \n",
        "\n",
        "3-) Divida o conjunto de dados em treino (75%) e teste (25%);\n",
        "\n",
        "4-) Mostrar os gráficos da função Loss e de Acurácia para os dados de treinamento e teste (validação);\n",
        "\n",
        "5-) Calcule também a matriz de confusão para avaliar o desempenho do modelo.\n",
        "\n",
        "---\n",
        "\n",
        "\n",
        "---"
      ],
      "metadata": {
        "id": "fVJ5KPiO8odR"
      }
    },
    {
      "cell_type": "markdown",
      "source": [
        "# Tarefa 5.1 - Pré-processamento de um conjunto de dados"
      ],
      "metadata": {
        "id": "tLyIaJa3V4Ns"
      }
    },
    {
      "cell_type": "markdown",
      "source": [
        "### 1. Faça a leitura do arquivo \"Churn_Modelling_2.csv (Links para um site externo.)\" disponível na pasta \"Churn (Links para um site externo.)\" no repositório GitHub da disciplina (Links para um site externo.) e armazene numa variável como um dataframe;"
      ],
      "metadata": {
        "id": "CpxYMvClJS5a"
      }
    },
    {
      "cell_type": "code",
      "source": [
        "!git clone \"https://github.com/malegopc/DSBD\"\n",
        "\n",
        "import pandas as pd\n",
        "import numpy as np\n",
        "from sklearn.preprocessing import StandardScaler, OneHotEncoder, LabelEncoder\n",
        "from sklearn.compose import make_column_transformer\n",
        "from sklearn.model_selection import train_test_split\n",
        "\n",
        "# Read Data Files\n",
        "churn = pd.read_csv('/content/DSBD/Datasets/Churn/Churn_Modelling_2.csv')\n",
        "# Eliminate null lines\n",
        "#churn = churn.dropna()\n",
        "# Show Data\n",
        "churn"
      ],
      "metadata": {
        "colab": {
          "base_uri": "https://localhost:8080/",
          "height": 0
        },
        "id": "hFyUWaHDKUCG",
        "outputId": "5fa829ae-ed01-4840-cea0-292c52d0df62"
      },
      "execution_count": 123,
      "outputs": [
        {
          "output_type": "stream",
          "name": "stdout",
          "text": [
            "fatal: destination path 'DSBD' already exists and is not an empty directory.\n"
          ]
        },
        {
          "output_type": "execute_result",
          "data": {
            "text/plain": [
              "      RowNumber  CustomerId    Surname  CreditScore Geography  Gender  Age  \\\n",
              "0             1    15634602   Hargrave          619    France  Female   42   \n",
              "1             2    15647311       Hill          608     Spain  Female   41   \n",
              "2             3    15619304       Onio          502    France  Female   42   \n",
              "3             4    15701354       Boni          699    France  Female   39   \n",
              "4             5    15737888   Mitchell          850     Spain  Female   43   \n",
              "...         ...         ...        ...          ...       ...     ...  ...   \n",
              "9995       9996    15606229   Obijiaku          771    France    Male   39   \n",
              "9996       9997    15569892  Johnstone          516    France    Male   35   \n",
              "9997       9998    15584532        Liu          709    France  Female   36   \n",
              "9998       9999    15682355  Sabbatini          772   Germany    Male   42   \n",
              "9999      10000    15628319     Walker          792    France  Female   28   \n",
              "\n",
              "      Tenure    Balance  NumOfProducts  HasCrCard  IsActiveMember  \\\n",
              "0          2       0.00            1.0          1             1.0   \n",
              "1          1   83807.86            1.0          0             1.0   \n",
              "2          8  159660.80            3.0          1             0.0   \n",
              "3          1       0.00            2.0          0             0.0   \n",
              "4          2  125510.82            1.0          1             1.0   \n",
              "...      ...        ...            ...        ...             ...   \n",
              "9995       5       0.00            2.0          1             0.0   \n",
              "9996      10   57369.61            1.0          1             1.0   \n",
              "9997       7       0.00            1.0          0             1.0   \n",
              "9998       3   75075.31            2.0          1             0.0   \n",
              "9999       4  130142.79            1.0          1             0.0   \n",
              "\n",
              "      EstimatedSalary  Exited  \n",
              "0           101348.88       1  \n",
              "1           112542.58       0  \n",
              "2           113931.57       1  \n",
              "3            93826.63       0  \n",
              "4            79084.10       0  \n",
              "...               ...     ...  \n",
              "9995         96270.64       0  \n",
              "9996        101699.77       0  \n",
              "9997         42085.58       1  \n",
              "9998         92888.52       1  \n",
              "9999         38190.78       0  \n",
              "\n",
              "[10000 rows x 14 columns]"
            ],
            "text/html": [
              "\n",
              "  <div id=\"df-940e7f73-5ffc-4d3d-b585-454da2cac206\">\n",
              "    <div class=\"colab-df-container\">\n",
              "      <div>\n",
              "<style scoped>\n",
              "    .dataframe tbody tr th:only-of-type {\n",
              "        vertical-align: middle;\n",
              "    }\n",
              "\n",
              "    .dataframe tbody tr th {\n",
              "        vertical-align: top;\n",
              "    }\n",
              "\n",
              "    .dataframe thead th {\n",
              "        text-align: right;\n",
              "    }\n",
              "</style>\n",
              "<table border=\"1\" class=\"dataframe\">\n",
              "  <thead>\n",
              "    <tr style=\"text-align: right;\">\n",
              "      <th></th>\n",
              "      <th>RowNumber</th>\n",
              "      <th>CustomerId</th>\n",
              "      <th>Surname</th>\n",
              "      <th>CreditScore</th>\n",
              "      <th>Geography</th>\n",
              "      <th>Gender</th>\n",
              "      <th>Age</th>\n",
              "      <th>Tenure</th>\n",
              "      <th>Balance</th>\n",
              "      <th>NumOfProducts</th>\n",
              "      <th>HasCrCard</th>\n",
              "      <th>IsActiveMember</th>\n",
              "      <th>EstimatedSalary</th>\n",
              "      <th>Exited</th>\n",
              "    </tr>\n",
              "  </thead>\n",
              "  <tbody>\n",
              "    <tr>\n",
              "      <th>0</th>\n",
              "      <td>1</td>\n",
              "      <td>15634602</td>\n",
              "      <td>Hargrave</td>\n",
              "      <td>619</td>\n",
              "      <td>France</td>\n",
              "      <td>Female</td>\n",
              "      <td>42</td>\n",
              "      <td>2</td>\n",
              "      <td>0.00</td>\n",
              "      <td>1.0</td>\n",
              "      <td>1</td>\n",
              "      <td>1.0</td>\n",
              "      <td>101348.88</td>\n",
              "      <td>1</td>\n",
              "    </tr>\n",
              "    <tr>\n",
              "      <th>1</th>\n",
              "      <td>2</td>\n",
              "      <td>15647311</td>\n",
              "      <td>Hill</td>\n",
              "      <td>608</td>\n",
              "      <td>Spain</td>\n",
              "      <td>Female</td>\n",
              "      <td>41</td>\n",
              "      <td>1</td>\n",
              "      <td>83807.86</td>\n",
              "      <td>1.0</td>\n",
              "      <td>0</td>\n",
              "      <td>1.0</td>\n",
              "      <td>112542.58</td>\n",
              "      <td>0</td>\n",
              "    </tr>\n",
              "    <tr>\n",
              "      <th>2</th>\n",
              "      <td>3</td>\n",
              "      <td>15619304</td>\n",
              "      <td>Onio</td>\n",
              "      <td>502</td>\n",
              "      <td>France</td>\n",
              "      <td>Female</td>\n",
              "      <td>42</td>\n",
              "      <td>8</td>\n",
              "      <td>159660.80</td>\n",
              "      <td>3.0</td>\n",
              "      <td>1</td>\n",
              "      <td>0.0</td>\n",
              "      <td>113931.57</td>\n",
              "      <td>1</td>\n",
              "    </tr>\n",
              "    <tr>\n",
              "      <th>3</th>\n",
              "      <td>4</td>\n",
              "      <td>15701354</td>\n",
              "      <td>Boni</td>\n",
              "      <td>699</td>\n",
              "      <td>France</td>\n",
              "      <td>Female</td>\n",
              "      <td>39</td>\n",
              "      <td>1</td>\n",
              "      <td>0.00</td>\n",
              "      <td>2.0</td>\n",
              "      <td>0</td>\n",
              "      <td>0.0</td>\n",
              "      <td>93826.63</td>\n",
              "      <td>0</td>\n",
              "    </tr>\n",
              "    <tr>\n",
              "      <th>4</th>\n",
              "      <td>5</td>\n",
              "      <td>15737888</td>\n",
              "      <td>Mitchell</td>\n",
              "      <td>850</td>\n",
              "      <td>Spain</td>\n",
              "      <td>Female</td>\n",
              "      <td>43</td>\n",
              "      <td>2</td>\n",
              "      <td>125510.82</td>\n",
              "      <td>1.0</td>\n",
              "      <td>1</td>\n",
              "      <td>1.0</td>\n",
              "      <td>79084.10</td>\n",
              "      <td>0</td>\n",
              "    </tr>\n",
              "    <tr>\n",
              "      <th>...</th>\n",
              "      <td>...</td>\n",
              "      <td>...</td>\n",
              "      <td>...</td>\n",
              "      <td>...</td>\n",
              "      <td>...</td>\n",
              "      <td>...</td>\n",
              "      <td>...</td>\n",
              "      <td>...</td>\n",
              "      <td>...</td>\n",
              "      <td>...</td>\n",
              "      <td>...</td>\n",
              "      <td>...</td>\n",
              "      <td>...</td>\n",
              "      <td>...</td>\n",
              "    </tr>\n",
              "    <tr>\n",
              "      <th>9995</th>\n",
              "      <td>9996</td>\n",
              "      <td>15606229</td>\n",
              "      <td>Obijiaku</td>\n",
              "      <td>771</td>\n",
              "      <td>France</td>\n",
              "      <td>Male</td>\n",
              "      <td>39</td>\n",
              "      <td>5</td>\n",
              "      <td>0.00</td>\n",
              "      <td>2.0</td>\n",
              "      <td>1</td>\n",
              "      <td>0.0</td>\n",
              "      <td>96270.64</td>\n",
              "      <td>0</td>\n",
              "    </tr>\n",
              "    <tr>\n",
              "      <th>9996</th>\n",
              "      <td>9997</td>\n",
              "      <td>15569892</td>\n",
              "      <td>Johnstone</td>\n",
              "      <td>516</td>\n",
              "      <td>France</td>\n",
              "      <td>Male</td>\n",
              "      <td>35</td>\n",
              "      <td>10</td>\n",
              "      <td>57369.61</td>\n",
              "      <td>1.0</td>\n",
              "      <td>1</td>\n",
              "      <td>1.0</td>\n",
              "      <td>101699.77</td>\n",
              "      <td>0</td>\n",
              "    </tr>\n",
              "    <tr>\n",
              "      <th>9997</th>\n",
              "      <td>9998</td>\n",
              "      <td>15584532</td>\n",
              "      <td>Liu</td>\n",
              "      <td>709</td>\n",
              "      <td>France</td>\n",
              "      <td>Female</td>\n",
              "      <td>36</td>\n",
              "      <td>7</td>\n",
              "      <td>0.00</td>\n",
              "      <td>1.0</td>\n",
              "      <td>0</td>\n",
              "      <td>1.0</td>\n",
              "      <td>42085.58</td>\n",
              "      <td>1</td>\n",
              "    </tr>\n",
              "    <tr>\n",
              "      <th>9998</th>\n",
              "      <td>9999</td>\n",
              "      <td>15682355</td>\n",
              "      <td>Sabbatini</td>\n",
              "      <td>772</td>\n",
              "      <td>Germany</td>\n",
              "      <td>Male</td>\n",
              "      <td>42</td>\n",
              "      <td>3</td>\n",
              "      <td>75075.31</td>\n",
              "      <td>2.0</td>\n",
              "      <td>1</td>\n",
              "      <td>0.0</td>\n",
              "      <td>92888.52</td>\n",
              "      <td>1</td>\n",
              "    </tr>\n",
              "    <tr>\n",
              "      <th>9999</th>\n",
              "      <td>10000</td>\n",
              "      <td>15628319</td>\n",
              "      <td>Walker</td>\n",
              "      <td>792</td>\n",
              "      <td>France</td>\n",
              "      <td>Female</td>\n",
              "      <td>28</td>\n",
              "      <td>4</td>\n",
              "      <td>130142.79</td>\n",
              "      <td>1.0</td>\n",
              "      <td>1</td>\n",
              "      <td>0.0</td>\n",
              "      <td>38190.78</td>\n",
              "      <td>0</td>\n",
              "    </tr>\n",
              "  </tbody>\n",
              "</table>\n",
              "<p>10000 rows × 14 columns</p>\n",
              "</div>\n",
              "      <button class=\"colab-df-convert\" onclick=\"convertToInteractive('df-940e7f73-5ffc-4d3d-b585-454da2cac206')\"\n",
              "              title=\"Convert this dataframe to an interactive table.\"\n",
              "              style=\"display:none;\">\n",
              "        \n",
              "  <svg xmlns=\"http://www.w3.org/2000/svg\" height=\"24px\"viewBox=\"0 0 24 24\"\n",
              "       width=\"24px\">\n",
              "    <path d=\"M0 0h24v24H0V0z\" fill=\"none\"/>\n",
              "    <path d=\"M18.56 5.44l.94 2.06.94-2.06 2.06-.94-2.06-.94-.94-2.06-.94 2.06-2.06.94zm-11 1L8.5 8.5l.94-2.06 2.06-.94-2.06-.94L8.5 2.5l-.94 2.06-2.06.94zm10 10l.94 2.06.94-2.06 2.06-.94-2.06-.94-.94-2.06-.94 2.06-2.06.94z\"/><path d=\"M17.41 7.96l-1.37-1.37c-.4-.4-.92-.59-1.43-.59-.52 0-1.04.2-1.43.59L10.3 9.45l-7.72 7.72c-.78.78-.78 2.05 0 2.83L4 21.41c.39.39.9.59 1.41.59.51 0 1.02-.2 1.41-.59l7.78-7.78 2.81-2.81c.8-.78.8-2.07 0-2.86zM5.41 20L4 18.59l7.72-7.72 1.47 1.35L5.41 20z\"/>\n",
              "  </svg>\n",
              "      </button>\n",
              "      \n",
              "  <style>\n",
              "    .colab-df-container {\n",
              "      display:flex;\n",
              "      flex-wrap:wrap;\n",
              "      gap: 12px;\n",
              "    }\n",
              "\n",
              "    .colab-df-convert {\n",
              "      background-color: #E8F0FE;\n",
              "      border: none;\n",
              "      border-radius: 50%;\n",
              "      cursor: pointer;\n",
              "      display: none;\n",
              "      fill: #1967D2;\n",
              "      height: 32px;\n",
              "      padding: 0 0 0 0;\n",
              "      width: 32px;\n",
              "    }\n",
              "\n",
              "    .colab-df-convert:hover {\n",
              "      background-color: #E2EBFA;\n",
              "      box-shadow: 0px 1px 2px rgba(60, 64, 67, 0.3), 0px 1px 3px 1px rgba(60, 64, 67, 0.15);\n",
              "      fill: #174EA6;\n",
              "    }\n",
              "\n",
              "    [theme=dark] .colab-df-convert {\n",
              "      background-color: #3B4455;\n",
              "      fill: #D2E3FC;\n",
              "    }\n",
              "\n",
              "    [theme=dark] .colab-df-convert:hover {\n",
              "      background-color: #434B5C;\n",
              "      box-shadow: 0px 1px 3px 1px rgba(0, 0, 0, 0.15);\n",
              "      filter: drop-shadow(0px 1px 2px rgba(0, 0, 0, 0.3));\n",
              "      fill: #FFFFFF;\n",
              "    }\n",
              "  </style>\n",
              "\n",
              "      <script>\n",
              "        const buttonEl =\n",
              "          document.querySelector('#df-940e7f73-5ffc-4d3d-b585-454da2cac206 button.colab-df-convert');\n",
              "        buttonEl.style.display =\n",
              "          google.colab.kernel.accessAllowed ? 'block' : 'none';\n",
              "\n",
              "        async function convertToInteractive(key) {\n",
              "          const element = document.querySelector('#df-940e7f73-5ffc-4d3d-b585-454da2cac206');\n",
              "          const dataTable =\n",
              "            await google.colab.kernel.invokeFunction('convertToInteractive',\n",
              "                                                     [key], {});\n",
              "          if (!dataTable) return;\n",
              "\n",
              "          const docLinkHtml = 'Like what you see? Visit the ' +\n",
              "            '<a target=\"_blank\" href=https://colab.research.google.com/notebooks/data_table.ipynb>data table notebook</a>'\n",
              "            + ' to learn more about interactive tables.';\n",
              "          element.innerHTML = '';\n",
              "          dataTable['output_type'] = 'display_data';\n",
              "          await google.colab.output.renderOutput(dataTable, element);\n",
              "          const docLink = document.createElement('div');\n",
              "          docLink.innerHTML = docLinkHtml;\n",
              "          element.appendChild(docLink);\n",
              "        }\n",
              "      </script>\n",
              "    </div>\n",
              "  </div>\n",
              "  "
            ]
          },
          "metadata": {},
          "execution_count": 123
        }
      ]
    },
    {
      "cell_type": "code",
      "source": [
        "# Dataset Length\n",
        "print('Dataset Length:')\n",
        "n = len(churn)\n",
        "print(n)\n",
        "# Show non-null Data Numbers\n",
        "print('\\nData Info:\\n')\n",
        "churn.info()\n",
        "# Null Data Numbers Sum\n",
        "print('\\nNull Data Numbers Sum:\\n')\n",
        "churn.isnull().sum()"
      ],
      "metadata": {
        "colab": {
          "base_uri": "https://localhost:8080/"
        },
        "id": "COox-tKhONz_",
        "outputId": "ac717ade-0ba1-4c45-80c6-9f77004e8d2b"
      },
      "execution_count": 124,
      "outputs": [
        {
          "output_type": "stream",
          "name": "stdout",
          "text": [
            "Dataset Length:\n",
            "10000\n",
            "\n",
            "Data Info:\n",
            "\n",
            "<class 'pandas.core.frame.DataFrame'>\n",
            "RangeIndex: 10000 entries, 0 to 9999\n",
            "Data columns (total 14 columns):\n",
            " #   Column           Non-Null Count  Dtype  \n",
            "---  ------           --------------  -----  \n",
            " 0   RowNumber        10000 non-null  int64  \n",
            " 1   CustomerId       10000 non-null  int64  \n",
            " 2   Surname          10000 non-null  object \n",
            " 3   CreditScore      10000 non-null  int64  \n",
            " 4   Geography        10000 non-null  object \n",
            " 5   Gender           10000 non-null  object \n",
            " 6   Age              10000 non-null  int64  \n",
            " 7   Tenure           10000 non-null  int64  \n",
            " 8   Balance          10000 non-null  float64\n",
            " 9   NumOfProducts    9990 non-null   float64\n",
            " 10  HasCrCard        10000 non-null  int64  \n",
            " 11  IsActiveMember   9986 non-null   float64\n",
            " 12  EstimatedSalary  10000 non-null  float64\n",
            " 13  Exited           10000 non-null  int64  \n",
            "dtypes: float64(4), int64(7), object(3)\n",
            "memory usage: 1.1+ MB\n",
            "\n",
            "Null Data Numbers Sum:\n",
            "\n"
          ]
        },
        {
          "output_type": "execute_result",
          "data": {
            "text/plain": [
              "RowNumber           0\n",
              "CustomerId          0\n",
              "Surname             0\n",
              "CreditScore         0\n",
              "Geography           0\n",
              "Gender              0\n",
              "Age                 0\n",
              "Tenure              0\n",
              "Balance             0\n",
              "NumOfProducts      10\n",
              "HasCrCard           0\n",
              "IsActiveMember     14\n",
              "EstimatedSalary     0\n",
              "Exited              0\n",
              "dtype: int64"
            ]
          },
          "metadata": {},
          "execution_count": 124
        }
      ]
    },
    {
      "cell_type": "markdown",
      "source": [
        "### 3. Faça a imputação dos dados ausentes para a variável \"NumOfProducts\" utilizando a média da variável."
      ],
      "metadata": {
        "id": "8O7xsk56J0Ec"
      }
    },
    {
      "cell_type": "code",
      "source": [
        "churn2 = churn.copy()\n",
        "column_mean = churn2['NumOfProducts'].mean()\n",
        "churn2['NumOfProducts'] = churn2['NumOfProducts'].fillna(value = column_mean)\n",
        "\n",
        "# strategy: mean, median, most_frequent, constant\n",
        "# imputer = SimpleImputer(missing_values = np.nan, strategy ='mean')\n",
        "# housing3[['total_bedrooms']] = imputer.fit_transform(housing3[['total_bedrooms']].values)"
      ],
      "metadata": {
        "id": "2tHxqmcuKWM-"
      },
      "execution_count": 125,
      "outputs": []
    },
    {
      "cell_type": "code",
      "source": [
        "# Soma o número de dados null (ausentes)\n",
        "print('\\n\\nSoma de dados null (vazios):\\n')\n",
        "churn2.isnull().sum()"
      ],
      "metadata": {
        "colab": {
          "base_uri": "https://localhost:8080/"
        },
        "id": "3JsJExXwQCtW",
        "outputId": "636411bb-a8f8-4a47-e980-d6749da4f470"
      },
      "execution_count": 126,
      "outputs": [
        {
          "output_type": "stream",
          "name": "stdout",
          "text": [
            "\n",
            "\n",
            "Soma de dados null (vazios):\n",
            "\n"
          ]
        },
        {
          "output_type": "execute_result",
          "data": {
            "text/plain": [
              "RowNumber           0\n",
              "CustomerId          0\n",
              "Surname             0\n",
              "CreditScore         0\n",
              "Geography           0\n",
              "Gender              0\n",
              "Age                 0\n",
              "Tenure              0\n",
              "Balance             0\n",
              "NumOfProducts       0\n",
              "HasCrCard           0\n",
              "IsActiveMember     14\n",
              "EstimatedSalary     0\n",
              "Exited              0\n",
              "dtype: int64"
            ]
          },
          "metadata": {},
          "execution_count": 126
        }
      ]
    },
    {
      "cell_type": "markdown",
      "source": [
        "### 2. Elimine instâncias (linhas) com dados ausentes para a variável \"IsActiveMember\"."
      ],
      "metadata": {
        "id": "koZg4i-eJprb"
      }
    },
    {
      "cell_type": "code",
      "source": [
        "# Exclui as instâncias (linhas) com dados ausentes:\n",
        "churn2 = churn2.dropna(subset = ['IsActiveMember'], inplace = False)"
      ],
      "metadata": {
        "id": "EVRSZvgmKU3_"
      },
      "execution_count": 127,
      "outputs": []
    },
    {
      "cell_type": "code",
      "source": [
        "# Show non-null Data Numbers\n",
        "print('\\nData Info:\\n')\n",
        "churn2.info()\n",
        "# Null Data Numbers Sum\n",
        "print('\\nNull Data Numbers Sum:\\n')\n",
        "churn2.isnull().sum()"
      ],
      "metadata": {
        "colab": {
          "base_uri": "https://localhost:8080/"
        },
        "id": "am3YtFQPOxhU",
        "outputId": "3535516e-25bc-48bb-fc5d-65b5cd15700e"
      },
      "execution_count": 128,
      "outputs": [
        {
          "output_type": "stream",
          "name": "stdout",
          "text": [
            "\n",
            "Data Info:\n",
            "\n",
            "<class 'pandas.core.frame.DataFrame'>\n",
            "Int64Index: 9986 entries, 0 to 9999\n",
            "Data columns (total 14 columns):\n",
            " #   Column           Non-Null Count  Dtype  \n",
            "---  ------           --------------  -----  \n",
            " 0   RowNumber        9986 non-null   int64  \n",
            " 1   CustomerId       9986 non-null   int64  \n",
            " 2   Surname          9986 non-null   object \n",
            " 3   CreditScore      9986 non-null   int64  \n",
            " 4   Geography        9986 non-null   object \n",
            " 5   Gender           9986 non-null   object \n",
            " 6   Age              9986 non-null   int64  \n",
            " 7   Tenure           9986 non-null   int64  \n",
            " 8   Balance          9986 non-null   float64\n",
            " 9   NumOfProducts    9986 non-null   float64\n",
            " 10  HasCrCard        9986 non-null   int64  \n",
            " 11  IsActiveMember   9986 non-null   float64\n",
            " 12  EstimatedSalary  9986 non-null   float64\n",
            " 13  Exited           9986 non-null   int64  \n",
            "dtypes: float64(4), int64(7), object(3)\n",
            "memory usage: 1.1+ MB\n",
            "\n",
            "Null Data Numbers Sum:\n",
            "\n"
          ]
        },
        {
          "output_type": "execute_result",
          "data": {
            "text/plain": [
              "RowNumber          0\n",
              "CustomerId         0\n",
              "Surname            0\n",
              "CreditScore        0\n",
              "Geography          0\n",
              "Gender             0\n",
              "Age                0\n",
              "Tenure             0\n",
              "Balance            0\n",
              "NumOfProducts      0\n",
              "HasCrCard          0\n",
              "IsActiveMember     0\n",
              "EstimatedSalary    0\n",
              "Exited             0\n",
              "dtype: int64"
            ]
          },
          "metadata": {},
          "execution_count": 128
        }
      ]
    },
    {
      "cell_type": "markdown",
      "source": [
        "### 4. Crie uma variável (array) X que contenha os valores apenas dos atributos/colunas de \"CreditScore\" a \"EstimatedSalary\" utilizando a função \"iloc\" do Pandas. Em outras palavras, crie uma variável X que receba o dataframe inteiro exceto as 3 primeiras colunas e a última. Observe que as 3 primeiras colunas \"RowNumber\", \"CustomerId\" e \"Surname\" não são importantes e devem ser descartadas. E a última coluna (\"Exited\") será a variável destino (\"target\" ou saída) que será criada no próximo passo;"
      ],
      "metadata": {
        "id": "aRDovVLjJ4Jk"
      }
    },
    {
      "cell_type": "code",
      "source": [
        "X = churn2.drop(['RowNumber', 'CustomerId', 'Surname'], axis = 1 , inplace = True)\n",
        "X = churn2.iloc[:,0:10].values\n",
        "X"
      ],
      "metadata": {
        "colab": {
          "base_uri": "https://localhost:8080/"
        },
        "id": "IURULLQPKXGP",
        "outputId": "0e5a5087-0b04-4fe0-9510-7c1a4c1eee90"
      },
      "execution_count": 129,
      "outputs": [
        {
          "output_type": "execute_result",
          "data": {
            "text/plain": [
              "array([[619, 'France', 'Female', ..., 1, 1.0, 101348.88],\n",
              "       [608, 'Spain', 'Female', ..., 0, 1.0, 112542.58],\n",
              "       [502, 'France', 'Female', ..., 1, 0.0, 113931.57],\n",
              "       ...,\n",
              "       [709, 'France', 'Female', ..., 0, 1.0, 42085.58],\n",
              "       [772, 'Germany', 'Male', ..., 1, 0.0, 92888.52],\n",
              "       [792, 'France', 'Female', ..., 1, 0.0, 38190.78]], dtype=object)"
            ]
          },
          "metadata": {},
          "execution_count": 129
        }
      ]
    },
    {
      "cell_type": "markdown",
      "source": [
        "### 5. Crie uma variável (array) y que contenha apenas a última coluna (\"Exited\"). Esta é a variável destino (\"target\" ou saída);"
      ],
      "metadata": {
        "id": "Ds-dMNDzJ9F8"
      }
    },
    {
      "cell_type": "code",
      "source": [
        "y = churn2.iloc[:,10].values\n",
        "y"
      ],
      "metadata": {
        "colab": {
          "base_uri": "https://localhost:8080/"
        },
        "id": "33hZ9Z5oKYwx",
        "outputId": "136c4fc5-5da3-4200-8682-3fc94c79296c"
      },
      "execution_count": 130,
      "outputs": [
        {
          "output_type": "execute_result",
          "data": {
            "text/plain": [
              "array([1, 0, 1, ..., 1, 1, 0])"
            ]
          },
          "metadata": {},
          "execution_count": 130
        }
      ]
    },
    {
      "cell_type": "markdown",
      "source": [
        "### 6. Codifique a coluna/variável categórica \"Geography\" como numérica utilizando a classe LabelEncoder da biblioteca scikit-learn;"
      ],
      "metadata": {
        "id": "_JqVkEuaKBUX"
      }
    },
    {
      "cell_type": "code",
      "source": [
        "country = churn2['Geography'] #variável categórica\n",
        "le = LabelEncoder() # cria objeto\n",
        "le.fit(country) # ajusta na variável de entrada\n",
        "country_encoder = le.transform(country) # aplica a transformação na variável de entrada\n",
        "churn2['Geography'] = country_encoder # France = 0 / Germany = 1 / Spain = 2\n",
        "churn2\n",
        "\n",
        "# le = LabelEncoder()\n",
        "# le.fit(X[:,1])"
      ],
      "metadata": {
        "colab": {
          "base_uri": "https://localhost:8080/",
          "height": 0
        },
        "id": "QiOlfpC1KbCN",
        "outputId": "98ad49aa-e249-4503-a456-3f81f2f3a05a"
      },
      "execution_count": 131,
      "outputs": [
        {
          "output_type": "execute_result",
          "data": {
            "text/plain": [
              "      CreditScore  Geography  Gender  Age  Tenure    Balance  NumOfProducts  \\\n",
              "0             619          0  Female   42       2       0.00            1.0   \n",
              "1             608          2  Female   41       1   83807.86            1.0   \n",
              "2             502          0  Female   42       8  159660.80            3.0   \n",
              "3             699          0  Female   39       1       0.00            2.0   \n",
              "4             850          2  Female   43       2  125510.82            1.0   \n",
              "...           ...        ...     ...  ...     ...        ...            ...   \n",
              "9995          771          0    Male   39       5       0.00            2.0   \n",
              "9996          516          0    Male   35      10   57369.61            1.0   \n",
              "9997          709          0  Female   36       7       0.00            1.0   \n",
              "9998          772          1    Male   42       3   75075.31            2.0   \n",
              "9999          792          0  Female   28       4  130142.79            1.0   \n",
              "\n",
              "      HasCrCard  IsActiveMember  EstimatedSalary  Exited  \n",
              "0             1             1.0        101348.88       1  \n",
              "1             0             1.0        112542.58       0  \n",
              "2             1             0.0        113931.57       1  \n",
              "3             0             0.0         93826.63       0  \n",
              "4             1             1.0         79084.10       0  \n",
              "...         ...             ...              ...     ...  \n",
              "9995          1             0.0         96270.64       0  \n",
              "9996          1             1.0        101699.77       0  \n",
              "9997          0             1.0         42085.58       1  \n",
              "9998          1             0.0         92888.52       1  \n",
              "9999          1             0.0         38190.78       0  \n",
              "\n",
              "[9986 rows x 11 columns]"
            ],
            "text/html": [
              "\n",
              "  <div id=\"df-3917f470-d3b7-4f88-8fe7-bcc0d6a4200e\">\n",
              "    <div class=\"colab-df-container\">\n",
              "      <div>\n",
              "<style scoped>\n",
              "    .dataframe tbody tr th:only-of-type {\n",
              "        vertical-align: middle;\n",
              "    }\n",
              "\n",
              "    .dataframe tbody tr th {\n",
              "        vertical-align: top;\n",
              "    }\n",
              "\n",
              "    .dataframe thead th {\n",
              "        text-align: right;\n",
              "    }\n",
              "</style>\n",
              "<table border=\"1\" class=\"dataframe\">\n",
              "  <thead>\n",
              "    <tr style=\"text-align: right;\">\n",
              "      <th></th>\n",
              "      <th>CreditScore</th>\n",
              "      <th>Geography</th>\n",
              "      <th>Gender</th>\n",
              "      <th>Age</th>\n",
              "      <th>Tenure</th>\n",
              "      <th>Balance</th>\n",
              "      <th>NumOfProducts</th>\n",
              "      <th>HasCrCard</th>\n",
              "      <th>IsActiveMember</th>\n",
              "      <th>EstimatedSalary</th>\n",
              "      <th>Exited</th>\n",
              "    </tr>\n",
              "  </thead>\n",
              "  <tbody>\n",
              "    <tr>\n",
              "      <th>0</th>\n",
              "      <td>619</td>\n",
              "      <td>0</td>\n",
              "      <td>Female</td>\n",
              "      <td>42</td>\n",
              "      <td>2</td>\n",
              "      <td>0.00</td>\n",
              "      <td>1.0</td>\n",
              "      <td>1</td>\n",
              "      <td>1.0</td>\n",
              "      <td>101348.88</td>\n",
              "      <td>1</td>\n",
              "    </tr>\n",
              "    <tr>\n",
              "      <th>1</th>\n",
              "      <td>608</td>\n",
              "      <td>2</td>\n",
              "      <td>Female</td>\n",
              "      <td>41</td>\n",
              "      <td>1</td>\n",
              "      <td>83807.86</td>\n",
              "      <td>1.0</td>\n",
              "      <td>0</td>\n",
              "      <td>1.0</td>\n",
              "      <td>112542.58</td>\n",
              "      <td>0</td>\n",
              "    </tr>\n",
              "    <tr>\n",
              "      <th>2</th>\n",
              "      <td>502</td>\n",
              "      <td>0</td>\n",
              "      <td>Female</td>\n",
              "      <td>42</td>\n",
              "      <td>8</td>\n",
              "      <td>159660.80</td>\n",
              "      <td>3.0</td>\n",
              "      <td>1</td>\n",
              "      <td>0.0</td>\n",
              "      <td>113931.57</td>\n",
              "      <td>1</td>\n",
              "    </tr>\n",
              "    <tr>\n",
              "      <th>3</th>\n",
              "      <td>699</td>\n",
              "      <td>0</td>\n",
              "      <td>Female</td>\n",
              "      <td>39</td>\n",
              "      <td>1</td>\n",
              "      <td>0.00</td>\n",
              "      <td>2.0</td>\n",
              "      <td>0</td>\n",
              "      <td>0.0</td>\n",
              "      <td>93826.63</td>\n",
              "      <td>0</td>\n",
              "    </tr>\n",
              "    <tr>\n",
              "      <th>4</th>\n",
              "      <td>850</td>\n",
              "      <td>2</td>\n",
              "      <td>Female</td>\n",
              "      <td>43</td>\n",
              "      <td>2</td>\n",
              "      <td>125510.82</td>\n",
              "      <td>1.0</td>\n",
              "      <td>1</td>\n",
              "      <td>1.0</td>\n",
              "      <td>79084.10</td>\n",
              "      <td>0</td>\n",
              "    </tr>\n",
              "    <tr>\n",
              "      <th>...</th>\n",
              "      <td>...</td>\n",
              "      <td>...</td>\n",
              "      <td>...</td>\n",
              "      <td>...</td>\n",
              "      <td>...</td>\n",
              "      <td>...</td>\n",
              "      <td>...</td>\n",
              "      <td>...</td>\n",
              "      <td>...</td>\n",
              "      <td>...</td>\n",
              "      <td>...</td>\n",
              "    </tr>\n",
              "    <tr>\n",
              "      <th>9995</th>\n",
              "      <td>771</td>\n",
              "      <td>0</td>\n",
              "      <td>Male</td>\n",
              "      <td>39</td>\n",
              "      <td>5</td>\n",
              "      <td>0.00</td>\n",
              "      <td>2.0</td>\n",
              "      <td>1</td>\n",
              "      <td>0.0</td>\n",
              "      <td>96270.64</td>\n",
              "      <td>0</td>\n",
              "    </tr>\n",
              "    <tr>\n",
              "      <th>9996</th>\n",
              "      <td>516</td>\n",
              "      <td>0</td>\n",
              "      <td>Male</td>\n",
              "      <td>35</td>\n",
              "      <td>10</td>\n",
              "      <td>57369.61</td>\n",
              "      <td>1.0</td>\n",
              "      <td>1</td>\n",
              "      <td>1.0</td>\n",
              "      <td>101699.77</td>\n",
              "      <td>0</td>\n",
              "    </tr>\n",
              "    <tr>\n",
              "      <th>9997</th>\n",
              "      <td>709</td>\n",
              "      <td>0</td>\n",
              "      <td>Female</td>\n",
              "      <td>36</td>\n",
              "      <td>7</td>\n",
              "      <td>0.00</td>\n",
              "      <td>1.0</td>\n",
              "      <td>0</td>\n",
              "      <td>1.0</td>\n",
              "      <td>42085.58</td>\n",
              "      <td>1</td>\n",
              "    </tr>\n",
              "    <tr>\n",
              "      <th>9998</th>\n",
              "      <td>772</td>\n",
              "      <td>1</td>\n",
              "      <td>Male</td>\n",
              "      <td>42</td>\n",
              "      <td>3</td>\n",
              "      <td>75075.31</td>\n",
              "      <td>2.0</td>\n",
              "      <td>1</td>\n",
              "      <td>0.0</td>\n",
              "      <td>92888.52</td>\n",
              "      <td>1</td>\n",
              "    </tr>\n",
              "    <tr>\n",
              "      <th>9999</th>\n",
              "      <td>792</td>\n",
              "      <td>0</td>\n",
              "      <td>Female</td>\n",
              "      <td>28</td>\n",
              "      <td>4</td>\n",
              "      <td>130142.79</td>\n",
              "      <td>1.0</td>\n",
              "      <td>1</td>\n",
              "      <td>0.0</td>\n",
              "      <td>38190.78</td>\n",
              "      <td>0</td>\n",
              "    </tr>\n",
              "  </tbody>\n",
              "</table>\n",
              "<p>9986 rows × 11 columns</p>\n",
              "</div>\n",
              "      <button class=\"colab-df-convert\" onclick=\"convertToInteractive('df-3917f470-d3b7-4f88-8fe7-bcc0d6a4200e')\"\n",
              "              title=\"Convert this dataframe to an interactive table.\"\n",
              "              style=\"display:none;\">\n",
              "        \n",
              "  <svg xmlns=\"http://www.w3.org/2000/svg\" height=\"24px\"viewBox=\"0 0 24 24\"\n",
              "       width=\"24px\">\n",
              "    <path d=\"M0 0h24v24H0V0z\" fill=\"none\"/>\n",
              "    <path d=\"M18.56 5.44l.94 2.06.94-2.06 2.06-.94-2.06-.94-.94-2.06-.94 2.06-2.06.94zm-11 1L8.5 8.5l.94-2.06 2.06-.94-2.06-.94L8.5 2.5l-.94 2.06-2.06.94zm10 10l.94 2.06.94-2.06 2.06-.94-2.06-.94-.94-2.06-.94 2.06-2.06.94z\"/><path d=\"M17.41 7.96l-1.37-1.37c-.4-.4-.92-.59-1.43-.59-.52 0-1.04.2-1.43.59L10.3 9.45l-7.72 7.72c-.78.78-.78 2.05 0 2.83L4 21.41c.39.39.9.59 1.41.59.51 0 1.02-.2 1.41-.59l7.78-7.78 2.81-2.81c.8-.78.8-2.07 0-2.86zM5.41 20L4 18.59l7.72-7.72 1.47 1.35L5.41 20z\"/>\n",
              "  </svg>\n",
              "      </button>\n",
              "      \n",
              "  <style>\n",
              "    .colab-df-container {\n",
              "      display:flex;\n",
              "      flex-wrap:wrap;\n",
              "      gap: 12px;\n",
              "    }\n",
              "\n",
              "    .colab-df-convert {\n",
              "      background-color: #E8F0FE;\n",
              "      border: none;\n",
              "      border-radius: 50%;\n",
              "      cursor: pointer;\n",
              "      display: none;\n",
              "      fill: #1967D2;\n",
              "      height: 32px;\n",
              "      padding: 0 0 0 0;\n",
              "      width: 32px;\n",
              "    }\n",
              "\n",
              "    .colab-df-convert:hover {\n",
              "      background-color: #E2EBFA;\n",
              "      box-shadow: 0px 1px 2px rgba(60, 64, 67, 0.3), 0px 1px 3px 1px rgba(60, 64, 67, 0.15);\n",
              "      fill: #174EA6;\n",
              "    }\n",
              "\n",
              "    [theme=dark] .colab-df-convert {\n",
              "      background-color: #3B4455;\n",
              "      fill: #D2E3FC;\n",
              "    }\n",
              "\n",
              "    [theme=dark] .colab-df-convert:hover {\n",
              "      background-color: #434B5C;\n",
              "      box-shadow: 0px 1px 3px 1px rgba(0, 0, 0, 0.15);\n",
              "      filter: drop-shadow(0px 1px 2px rgba(0, 0, 0, 0.3));\n",
              "      fill: #FFFFFF;\n",
              "    }\n",
              "  </style>\n",
              "\n",
              "      <script>\n",
              "        const buttonEl =\n",
              "          document.querySelector('#df-3917f470-d3b7-4f88-8fe7-bcc0d6a4200e button.colab-df-convert');\n",
              "        buttonEl.style.display =\n",
              "          google.colab.kernel.accessAllowed ? 'block' : 'none';\n",
              "\n",
              "        async function convertToInteractive(key) {\n",
              "          const element = document.querySelector('#df-3917f470-d3b7-4f88-8fe7-bcc0d6a4200e');\n",
              "          const dataTable =\n",
              "            await google.colab.kernel.invokeFunction('convertToInteractive',\n",
              "                                                     [key], {});\n",
              "          if (!dataTable) return;\n",
              "\n",
              "          const docLinkHtml = 'Like what you see? Visit the ' +\n",
              "            '<a target=\"_blank\" href=https://colab.research.google.com/notebooks/data_table.ipynb>data table notebook</a>'\n",
              "            + ' to learn more about interactive tables.';\n",
              "          element.innerHTML = '';\n",
              "          dataTable['output_type'] = 'display_data';\n",
              "          await google.colab.output.renderOutput(dataTable, element);\n",
              "          const docLink = document.createElement('div');\n",
              "          docLink.innerHTML = docLinkHtml;\n",
              "          element.appendChild(docLink);\n",
              "        }\n",
              "      </script>\n",
              "    </div>\n",
              "  </div>\n",
              "  "
            ]
          },
          "metadata": {},
          "execution_count": 131
        }
      ]
    },
    {
      "cell_type": "markdown",
      "source": [
        "### 7. Codifique a coluna/variável categórica \"Gender\" como numérica utilizando a classe LabelEncoder da biblioteca scikit-learn;"
      ],
      "metadata": {
        "id": "klYsrRXrKEJu"
      }
    },
    {
      "cell_type": "code",
      "source": [
        "gender = churn2['Gender'] #variável categórica\n",
        "le = LabelEncoder() # cria objeto\n",
        "le.fit(gender) # ajusta na variável de entrada\n",
        "gender_encoder = le.transform(gender) # aplica a transformação na variável de entrada\n",
        "churn2['Gender'] = gender_encoder # Female = 0 / Male = 1\n",
        "churn2"
      ],
      "metadata": {
        "colab": {
          "base_uri": "https://localhost:8080/",
          "height": 0
        },
        "id": "ugv3pI6iKcD4",
        "outputId": "39605e2e-c614-4a6d-f247-97f147591076"
      },
      "execution_count": 132,
      "outputs": [
        {
          "output_type": "execute_result",
          "data": {
            "text/plain": [
              "      CreditScore  Geography  Gender  Age  Tenure    Balance  NumOfProducts  \\\n",
              "0             619          0       0   42       2       0.00            1.0   \n",
              "1             608          2       0   41       1   83807.86            1.0   \n",
              "2             502          0       0   42       8  159660.80            3.0   \n",
              "3             699          0       0   39       1       0.00            2.0   \n",
              "4             850          2       0   43       2  125510.82            1.0   \n",
              "...           ...        ...     ...  ...     ...        ...            ...   \n",
              "9995          771          0       1   39       5       0.00            2.0   \n",
              "9996          516          0       1   35      10   57369.61            1.0   \n",
              "9997          709          0       0   36       7       0.00            1.0   \n",
              "9998          772          1       1   42       3   75075.31            2.0   \n",
              "9999          792          0       0   28       4  130142.79            1.0   \n",
              "\n",
              "      HasCrCard  IsActiveMember  EstimatedSalary  Exited  \n",
              "0             1             1.0        101348.88       1  \n",
              "1             0             1.0        112542.58       0  \n",
              "2             1             0.0        113931.57       1  \n",
              "3             0             0.0         93826.63       0  \n",
              "4             1             1.0         79084.10       0  \n",
              "...         ...             ...              ...     ...  \n",
              "9995          1             0.0         96270.64       0  \n",
              "9996          1             1.0        101699.77       0  \n",
              "9997          0             1.0         42085.58       1  \n",
              "9998          1             0.0         92888.52       1  \n",
              "9999          1             0.0         38190.78       0  \n",
              "\n",
              "[9986 rows x 11 columns]"
            ],
            "text/html": [
              "\n",
              "  <div id=\"df-dc532552-1500-49f9-9efa-7d40a4a58098\">\n",
              "    <div class=\"colab-df-container\">\n",
              "      <div>\n",
              "<style scoped>\n",
              "    .dataframe tbody tr th:only-of-type {\n",
              "        vertical-align: middle;\n",
              "    }\n",
              "\n",
              "    .dataframe tbody tr th {\n",
              "        vertical-align: top;\n",
              "    }\n",
              "\n",
              "    .dataframe thead th {\n",
              "        text-align: right;\n",
              "    }\n",
              "</style>\n",
              "<table border=\"1\" class=\"dataframe\">\n",
              "  <thead>\n",
              "    <tr style=\"text-align: right;\">\n",
              "      <th></th>\n",
              "      <th>CreditScore</th>\n",
              "      <th>Geography</th>\n",
              "      <th>Gender</th>\n",
              "      <th>Age</th>\n",
              "      <th>Tenure</th>\n",
              "      <th>Balance</th>\n",
              "      <th>NumOfProducts</th>\n",
              "      <th>HasCrCard</th>\n",
              "      <th>IsActiveMember</th>\n",
              "      <th>EstimatedSalary</th>\n",
              "      <th>Exited</th>\n",
              "    </tr>\n",
              "  </thead>\n",
              "  <tbody>\n",
              "    <tr>\n",
              "      <th>0</th>\n",
              "      <td>619</td>\n",
              "      <td>0</td>\n",
              "      <td>0</td>\n",
              "      <td>42</td>\n",
              "      <td>2</td>\n",
              "      <td>0.00</td>\n",
              "      <td>1.0</td>\n",
              "      <td>1</td>\n",
              "      <td>1.0</td>\n",
              "      <td>101348.88</td>\n",
              "      <td>1</td>\n",
              "    </tr>\n",
              "    <tr>\n",
              "      <th>1</th>\n",
              "      <td>608</td>\n",
              "      <td>2</td>\n",
              "      <td>0</td>\n",
              "      <td>41</td>\n",
              "      <td>1</td>\n",
              "      <td>83807.86</td>\n",
              "      <td>1.0</td>\n",
              "      <td>0</td>\n",
              "      <td>1.0</td>\n",
              "      <td>112542.58</td>\n",
              "      <td>0</td>\n",
              "    </tr>\n",
              "    <tr>\n",
              "      <th>2</th>\n",
              "      <td>502</td>\n",
              "      <td>0</td>\n",
              "      <td>0</td>\n",
              "      <td>42</td>\n",
              "      <td>8</td>\n",
              "      <td>159660.80</td>\n",
              "      <td>3.0</td>\n",
              "      <td>1</td>\n",
              "      <td>0.0</td>\n",
              "      <td>113931.57</td>\n",
              "      <td>1</td>\n",
              "    </tr>\n",
              "    <tr>\n",
              "      <th>3</th>\n",
              "      <td>699</td>\n",
              "      <td>0</td>\n",
              "      <td>0</td>\n",
              "      <td>39</td>\n",
              "      <td>1</td>\n",
              "      <td>0.00</td>\n",
              "      <td>2.0</td>\n",
              "      <td>0</td>\n",
              "      <td>0.0</td>\n",
              "      <td>93826.63</td>\n",
              "      <td>0</td>\n",
              "    </tr>\n",
              "    <tr>\n",
              "      <th>4</th>\n",
              "      <td>850</td>\n",
              "      <td>2</td>\n",
              "      <td>0</td>\n",
              "      <td>43</td>\n",
              "      <td>2</td>\n",
              "      <td>125510.82</td>\n",
              "      <td>1.0</td>\n",
              "      <td>1</td>\n",
              "      <td>1.0</td>\n",
              "      <td>79084.10</td>\n",
              "      <td>0</td>\n",
              "    </tr>\n",
              "    <tr>\n",
              "      <th>...</th>\n",
              "      <td>...</td>\n",
              "      <td>...</td>\n",
              "      <td>...</td>\n",
              "      <td>...</td>\n",
              "      <td>...</td>\n",
              "      <td>...</td>\n",
              "      <td>...</td>\n",
              "      <td>...</td>\n",
              "      <td>...</td>\n",
              "      <td>...</td>\n",
              "      <td>...</td>\n",
              "    </tr>\n",
              "    <tr>\n",
              "      <th>9995</th>\n",
              "      <td>771</td>\n",
              "      <td>0</td>\n",
              "      <td>1</td>\n",
              "      <td>39</td>\n",
              "      <td>5</td>\n",
              "      <td>0.00</td>\n",
              "      <td>2.0</td>\n",
              "      <td>1</td>\n",
              "      <td>0.0</td>\n",
              "      <td>96270.64</td>\n",
              "      <td>0</td>\n",
              "    </tr>\n",
              "    <tr>\n",
              "      <th>9996</th>\n",
              "      <td>516</td>\n",
              "      <td>0</td>\n",
              "      <td>1</td>\n",
              "      <td>35</td>\n",
              "      <td>10</td>\n",
              "      <td>57369.61</td>\n",
              "      <td>1.0</td>\n",
              "      <td>1</td>\n",
              "      <td>1.0</td>\n",
              "      <td>101699.77</td>\n",
              "      <td>0</td>\n",
              "    </tr>\n",
              "    <tr>\n",
              "      <th>9997</th>\n",
              "      <td>709</td>\n",
              "      <td>0</td>\n",
              "      <td>0</td>\n",
              "      <td>36</td>\n",
              "      <td>7</td>\n",
              "      <td>0.00</td>\n",
              "      <td>1.0</td>\n",
              "      <td>0</td>\n",
              "      <td>1.0</td>\n",
              "      <td>42085.58</td>\n",
              "      <td>1</td>\n",
              "    </tr>\n",
              "    <tr>\n",
              "      <th>9998</th>\n",
              "      <td>772</td>\n",
              "      <td>1</td>\n",
              "      <td>1</td>\n",
              "      <td>42</td>\n",
              "      <td>3</td>\n",
              "      <td>75075.31</td>\n",
              "      <td>2.0</td>\n",
              "      <td>1</td>\n",
              "      <td>0.0</td>\n",
              "      <td>92888.52</td>\n",
              "      <td>1</td>\n",
              "    </tr>\n",
              "    <tr>\n",
              "      <th>9999</th>\n",
              "      <td>792</td>\n",
              "      <td>0</td>\n",
              "      <td>0</td>\n",
              "      <td>28</td>\n",
              "      <td>4</td>\n",
              "      <td>130142.79</td>\n",
              "      <td>1.0</td>\n",
              "      <td>1</td>\n",
              "      <td>0.0</td>\n",
              "      <td>38190.78</td>\n",
              "      <td>0</td>\n",
              "    </tr>\n",
              "  </tbody>\n",
              "</table>\n",
              "<p>9986 rows × 11 columns</p>\n",
              "</div>\n",
              "      <button class=\"colab-df-convert\" onclick=\"convertToInteractive('df-dc532552-1500-49f9-9efa-7d40a4a58098')\"\n",
              "              title=\"Convert this dataframe to an interactive table.\"\n",
              "              style=\"display:none;\">\n",
              "        \n",
              "  <svg xmlns=\"http://www.w3.org/2000/svg\" height=\"24px\"viewBox=\"0 0 24 24\"\n",
              "       width=\"24px\">\n",
              "    <path d=\"M0 0h24v24H0V0z\" fill=\"none\"/>\n",
              "    <path d=\"M18.56 5.44l.94 2.06.94-2.06 2.06-.94-2.06-.94-.94-2.06-.94 2.06-2.06.94zm-11 1L8.5 8.5l.94-2.06 2.06-.94-2.06-.94L8.5 2.5l-.94 2.06-2.06.94zm10 10l.94 2.06.94-2.06 2.06-.94-2.06-.94-.94-2.06-.94 2.06-2.06.94z\"/><path d=\"M17.41 7.96l-1.37-1.37c-.4-.4-.92-.59-1.43-.59-.52 0-1.04.2-1.43.59L10.3 9.45l-7.72 7.72c-.78.78-.78 2.05 0 2.83L4 21.41c.39.39.9.59 1.41.59.51 0 1.02-.2 1.41-.59l7.78-7.78 2.81-2.81c.8-.78.8-2.07 0-2.86zM5.41 20L4 18.59l7.72-7.72 1.47 1.35L5.41 20z\"/>\n",
              "  </svg>\n",
              "      </button>\n",
              "      \n",
              "  <style>\n",
              "    .colab-df-container {\n",
              "      display:flex;\n",
              "      flex-wrap:wrap;\n",
              "      gap: 12px;\n",
              "    }\n",
              "\n",
              "    .colab-df-convert {\n",
              "      background-color: #E8F0FE;\n",
              "      border: none;\n",
              "      border-radius: 50%;\n",
              "      cursor: pointer;\n",
              "      display: none;\n",
              "      fill: #1967D2;\n",
              "      height: 32px;\n",
              "      padding: 0 0 0 0;\n",
              "      width: 32px;\n",
              "    }\n",
              "\n",
              "    .colab-df-convert:hover {\n",
              "      background-color: #E2EBFA;\n",
              "      box-shadow: 0px 1px 2px rgba(60, 64, 67, 0.3), 0px 1px 3px 1px rgba(60, 64, 67, 0.15);\n",
              "      fill: #174EA6;\n",
              "    }\n",
              "\n",
              "    [theme=dark] .colab-df-convert {\n",
              "      background-color: #3B4455;\n",
              "      fill: #D2E3FC;\n",
              "    }\n",
              "\n",
              "    [theme=dark] .colab-df-convert:hover {\n",
              "      background-color: #434B5C;\n",
              "      box-shadow: 0px 1px 3px 1px rgba(0, 0, 0, 0.15);\n",
              "      filter: drop-shadow(0px 1px 2px rgba(0, 0, 0, 0.3));\n",
              "      fill: #FFFFFF;\n",
              "    }\n",
              "  </style>\n",
              "\n",
              "      <script>\n",
              "        const buttonEl =\n",
              "          document.querySelector('#df-dc532552-1500-49f9-9efa-7d40a4a58098 button.colab-df-convert');\n",
              "        buttonEl.style.display =\n",
              "          google.colab.kernel.accessAllowed ? 'block' : 'none';\n",
              "\n",
              "        async function convertToInteractive(key) {\n",
              "          const element = document.querySelector('#df-dc532552-1500-49f9-9efa-7d40a4a58098');\n",
              "          const dataTable =\n",
              "            await google.colab.kernel.invokeFunction('convertToInteractive',\n",
              "                                                     [key], {});\n",
              "          if (!dataTable) return;\n",
              "\n",
              "          const docLinkHtml = 'Like what you see? Visit the ' +\n",
              "            '<a target=\"_blank\" href=https://colab.research.google.com/notebooks/data_table.ipynb>data table notebook</a>'\n",
              "            + ' to learn more about interactive tables.';\n",
              "          element.innerHTML = '';\n",
              "          dataTable['output_type'] = 'display_data';\n",
              "          await google.colab.output.renderOutput(dataTable, element);\n",
              "          const docLink = document.createElement('div');\n",
              "          docLink.innerHTML = docLinkHtml;\n",
              "          element.appendChild(docLink);\n",
              "        }\n",
              "      </script>\n",
              "    </div>\n",
              "  </div>\n",
              "  "
            ]
          },
          "metadata": {},
          "execution_count": 132
        }
      ]
    },
    {
      "cell_type": "markdown",
      "source": [
        "### 8. Após executar o passo 6, transforme os dados da variável \"Geography\" para a forma binária utilizando a classe OneHotEncoder da biblioteca scikit-learn eliminando redundância, ou seja, aplicando a codificação de variáveis dummy. Observe que há apenas 3 países (categorias) diferentes. Atenção: esse talvez seja o passo mais difícil da tarefa. Você deve transformar o resultado da variável/coluna \"Geography\" obtido no passo 6 para o formato binário (one-hot) de modo que fique representado por apenas duas colunas (de 0s e 1s). Além disso, essas duas novas colunas devem permanecer na mesma variável X. Dica: verifique a utilização da função make_column_transformer (Links para um site externo.) da biblioteca scikit-learn;"
      ],
      "metadata": {
        "id": "ol9ZhH69KGxA"
      }
    },
    {
      "cell_type": "code",
      "source": [
        "ohe = OneHotEncoder(drop = 'first')\n",
        "\n",
        "ct = make_column_transformer(\n",
        "    (ohe, [1,2]), # 1 = Geography, 2 = Gender\n",
        "    remainder = 'passthrough')\n",
        "\n",
        "X = ct.fit_transform(X)\n",
        "print(X[:,0:11])\n",
        "\n",
        "#enc = OneHotEncoder(drop = 'first', sparse = False)\n",
        "# ct = make_column_transformer((enc,[1]),(enc[2]), ramainder = 'passthrough')"
      ],
      "metadata": {
        "colab": {
          "base_uri": "https://localhost:8080/"
        },
        "id": "0_pE5dhlKf4D",
        "outputId": "2c02ab7c-327c-4e70-9691-27b17c983af1"
      },
      "execution_count": 133,
      "outputs": [
        {
          "output_type": "stream",
          "name": "stdout",
          "text": [
            "[[0.0 0.0 0.0 ... 1 1.0 101348.88]\n",
            " [0.0 1.0 0.0 ... 0 1.0 112542.58]\n",
            " [0.0 0.0 0.0 ... 1 0.0 113931.57]\n",
            " ...\n",
            " [0.0 0.0 0.0 ... 0 1.0 42085.58]\n",
            " [1.0 0.0 1.0 ... 1 0.0 92888.52]\n",
            " [0.0 0.0 0.0 ... 1 0.0 38190.78]]\n"
          ]
        }
      ]
    },
    {
      "cell_type": "markdown",
      "source": [
        "### 9. Divida as variáveis X e y em dados de treino e de teste utilizando o método \"train_test_split\", gerando as variáveis X_train, X_test, y_train e y_test. Você define a proporção de dados de treino e de teste;"
      ],
      "metadata": {
        "id": "HL1UtL1vKJxR"
      }
    },
    {
      "cell_type": "code",
      "source": [
        "X_train, X_test, y_train, y_test = train_test_split(X,y,test_size=0.25,random_state=42)\n",
        "X_train.shape, X_test.shape, y_train.shape, y_test.shape"
      ],
      "metadata": {
        "colab": {
          "base_uri": "https://localhost:8080/"
        },
        "id": "EhmkJJWeKhIO",
        "outputId": "f6e21b3a-608c-4fdd-b934-1a6cde251071"
      },
      "execution_count": 134,
      "outputs": [
        {
          "output_type": "execute_result",
          "data": {
            "text/plain": [
              "((7489, 11), (2497, 11), (7489,), (2497,))"
            ]
          },
          "metadata": {},
          "execution_count": 134
        }
      ]
    },
    {
      "cell_type": "markdown",
      "source": [
        "### 10. Faça a padronização (escalonamento) dos dados das variáveis X_train e X_test utilizando a classe StandardScaler do scikit-learn;"
      ],
      "metadata": {
        "id": "zGwuefOoKMSf"
      }
    },
    {
      "cell_type": "code",
      "source": [
        "sc = StandardScaler()\n",
        "X_train = sc.fit_transform(X_train)\n",
        "X_test = sc.transform(X_test)\n",
        "X_train, X_test"
      ],
      "metadata": {
        "colab": {
          "base_uri": "https://localhost:8080/"
        },
        "id": "v1PHiiUIKh33",
        "outputId": "b61e48a2-f0eb-4a64-a663-1abb0ae598e2"
      },
      "execution_count": 135,
      "outputs": [
        {
          "output_type": "execute_result",
          "data": {
            "text/plain": [
              "(array([[ 1.72544606, -0.57174804, -1.10198466, ...,  0.64245802,\n",
              "         -1.02968325,  1.36744416],\n",
              "        [-0.57956028, -0.57174804,  0.90745365, ...,  0.64245802,\n",
              "          0.97117245, -1.0562282 ],\n",
              "        [-0.57956028,  1.74902218, -1.10198466, ...,  0.64245802,\n",
              "         -1.02968325, -0.29006699],\n",
              "        ...,\n",
              "        [-0.57956028, -0.57174804, -1.10198466, ...,  0.64245802,\n",
              "         -1.02968325,  1.5671056 ],\n",
              "        [-0.57956028, -0.57174804, -1.10198466, ...,  0.64245802,\n",
              "          0.97117245, -1.26181426],\n",
              "        [-0.57956028, -0.57174804,  0.90745365, ...,  0.64245802,\n",
              "          0.97117245,  1.56935246]]),\n",
              " array([[-0.57956028, -0.57174804,  0.90745365, ...,  0.64245802,\n",
              "          0.97117245, -0.55722476],\n",
              "        [ 1.72544606, -0.57174804,  0.90745365, ...,  0.64245802,\n",
              "         -1.02968325,  1.58938629],\n",
              "        [ 1.72544606, -0.57174804, -1.10198466, ...,  0.64245802,\n",
              "         -1.02968325, -1.73763017],\n",
              "        ...,\n",
              "        [-0.57956028, -0.57174804,  0.90745365, ...,  0.64245802,\n",
              "          0.97117245, -1.50785637],\n",
              "        [-0.57956028, -0.57174804, -1.10198466, ...,  0.64245802,\n",
              "         -1.02968325, -1.16246773],\n",
              "        [ 1.72544606, -0.57174804, -1.10198466, ...,  0.64245802,\n",
              "          0.97117245,  1.71744346]]))"
            ]
          },
          "metadata": {},
          "execution_count": 135
        }
      ]
    },
    {
      "cell_type": "markdown",
      "source": [
        "#Tarefa 5.2 - Aplicação de diferentes algoritmos de AM numa tarefa de predição (classificação) Churn - Churn_Modelling`"
      ],
      "metadata": {
        "id": "oW6DDOtnQSp8"
      }
    },
    {
      "cell_type": "code",
      "source": [
        "import matplotlib.pyplot as plt\n",
        "\n",
        "from sklearn import metrics\n",
        "from sklearn.metrics import ConfusionMatrixDisplay\n",
        "\n",
        "from sklearn.linear_model import LogisticRegression\n",
        "from sklearn.neighbors import KNeighborsClassifier\n",
        "from sklearn import svm\n",
        "from sklearn.ensemble import RandomForestClassifier"
      ],
      "metadata": {
        "id": "0w10fWvCYDv0"
      },
      "execution_count": 136,
      "outputs": []
    },
    {
      "cell_type": "markdown",
      "source": [
        "### 1-) Os dados devem ser pré-processados (recuperar o que foi feito na Tarefa 5.1;\n",
        "\n",
        "### 2-) Divida o conjunto de dados em treino (75%) e teste (25%);\n",
        "\n",
        "\n",
        "- Realizados na tarefa anterior (Tarefa 5-1)"
      ],
      "metadata": {
        "id": "mHCs-KHNabqU"
      }
    },
    {
      "cell_type": "markdown",
      "source": [
        "### 3-)  Você deve aplicar os seguintes algoritmos de AM: \n",
        "- Regressão Logística\n",
        "- KNN - K-Nearest Neighbors (k-vizinhos mais próximos)\n",
        "- SVM - Support Vector Machines (Máquinas de Vetores de Suporte)\n",
        "- Random Forest \n",
        "\n",
        "### 4-) Mostrar a taxa de acerto e a matriz de confusão de cada algoritmo de AM."
      ],
      "metadata": {
        "id": "TgrDOezObDMd"
      }
    },
    {
      "cell_type": "markdown",
      "source": [
        "### - Regressão Logística"
      ],
      "metadata": {
        "id": "A5lfre2EW0es"
      }
    },
    {
      "cell_type": "code",
      "source": [
        "logreg = LogisticRegression(solver = 'liblinear') # liblinear => conjuntos pequenos\n",
        "logreg.fit(X_train,y_train)\n",
        "classificacoes_logreg = logreg.predict(X_test)\n",
        "acertos_LogReg = metrics.accuracy_score(y_test,classificacoes_logreg)\n",
        "print('Taxa de acerto = ',round(acertos_LogReg*100,2),\"%\\n\")\n",
        "\n",
        "# matriz de confusão\n",
        "print('Matriz de confusão:\\n')\n",
        "cm_logreg = ConfusionMatrixDisplay.from_estimator(logreg, X_test, y_test)\n",
        "#print(cm_logreg.confusion_matrix)\n",
        "plt.show()"
      ],
      "metadata": {
        "colab": {
          "base_uri": "https://localhost:8080/",
          "height": 0
        },
        "id": "Ykfyfu6vQVvM",
        "outputId": "02594ecc-1849-4002-ab22-2f311378a25d"
      },
      "execution_count": 137,
      "outputs": [
        {
          "output_type": "stream",
          "name": "stdout",
          "text": [
            "Taxa de acerto =  80.78 %\n",
            "\n",
            "Matriz de confusão:\n",
            "\n"
          ]
        },
        {
          "output_type": "display_data",
          "data": {
            "text/plain": [
              "<Figure size 432x288 with 2 Axes>"
            ],
            "image/png": "[encoded data removed]"
          },
          "metadata": {
            "needs_background": "light"
          }
        }
      ]
    },
    {
      "cell_type": "markdown",
      "source": [
        "### - KNN - K-Nearest Neighbors (k-vizinhos mais próximos)"
      ],
      "metadata": {
        "id": "eTtcKQrVXFNV"
      }
    },
    {
      "cell_type": "code",
      "source": [
        "knn = KNeighborsClassifier(n_neighbors=20) \n",
        "knn.fit(X_train,y_train)\n",
        "classificacoes_knn = knn.predict(X_test)\n",
        "acertos_knn = metrics.accuracy_score(y_test,classificacoes_knn)\n",
        "print('Taxa de acerto = ',round(acertos_knn*100,2),\"%\\n\")\n",
        "\n",
        "# matriz de confusão\n",
        "print('Matriz de confusão:\\n')\n",
        "cm_knn = ConfusionMatrixDisplay.from_estimator(knn, X_test, y_test)\n",
        "#print(cm_knn.confusion_matrix)\n",
        "plt.show()"
      ],
      "metadata": {
        "colab": {
          "base_uri": "https://localhost:8080/",
          "height": 0
        },
        "id": "DntI2NMzXPe7",
        "outputId": "d9e3dcc2-f3e1-4c8c-9916-8f6bc537c603"
      },
      "execution_count": 138,
      "outputs": [
        {
          "output_type": "stream",
          "name": "stdout",
          "text": [
            "Taxa de acerto =  82.94 %\n",
            "\n",
            "Matriz de confusão:\n",
            "\n"
          ]
        },
        {
          "output_type": "display_data",
          "data": {
            "text/plain": [
              "<Figure size 432x288 with 2 Axes>"
            ],
            "image/png": "[encoded data removed]"
          },
          "metadata": {
            "needs_background": "light"
          }
        }
      ]
    },
    {
      "cell_type": "markdown",
      "source": [
        "### - SVM - Support Vector Machines (Máquinas de Vetores de Suporte)"
      ],
      "metadata": {
        "id": "NKNMlK6PXGq3"
      }
    },
    {
      "cell_type": "code",
      "source": [
        "svm = svm.SVC()\n",
        "svm.fit(X_train, y_train)\n",
        "classificacoes_svm = svm.predict(X_test)\n",
        "acertos_svm = metrics.accuracy_score(y_test, classificacoes_svm)\n",
        "print('Taxa de acerto = ',round(acertos_svm*100,2),\"%\\n\")\n",
        "\n",
        "# matriz de confusão\n",
        "print('Matriz de confusão:\\n')\n",
        "cm_svm = ConfusionMatrixDisplay.from_estimator(svm, X_test, y_test)\n",
        "#print(cm_svm.confusion_matrix)\n",
        "plt.show()"
      ],
      "metadata": {
        "colab": {
          "base_uri": "https://localhost:8080/",
          "height": 0
        },
        "id": "5x4uSPa0Xq8U",
        "outputId": "a993d0c7-83a6-4488-f261-1f55a2c73973"
      },
      "execution_count": 139,
      "outputs": [
        {
          "output_type": "stream",
          "name": "stdout",
          "text": [
            "Taxa de acerto =  85.5 %\n",
            "\n",
            "Matriz de confusão:\n",
            "\n"
          ]
        },
        {
          "output_type": "display_data",
          "data": {
            "text/plain": [
              "<Figure size 432x288 with 2 Axes>"
            ],
            "image/png": "[encoded data removed]"
          },
          "metadata": {
            "needs_background": "light"
          }
        }
      ]
    },
    {
      "cell_type": "markdown",
      "source": [
        "### - Random Forest\n",
        "\n"
      ],
      "metadata": {
        "id": "X3EqJjTBXHFo"
      }
    },
    {
      "cell_type": "code",
      "source": [
        "rf = RandomForestClassifier(n_estimators = 10, random_state = 42)\n",
        "rf.fit(X_train, y_train)\n",
        "classificacoes_rf = rf.predict(X_test)\n",
        "acertos_rf = metrics.accuracy_score(y_test, classificacoes_rf)\n",
        "print('Taxa de acerto = ',round(acertos_rf*100,2),\"%\\n\")\n",
        "\n",
        "# matriz de confusão\n",
        "print('Matriz de confusão:\\n')\n",
        "cm_rf = ConfusionMatrixDisplay.from_estimator(rf, X_test, y_test)\n",
        "#print(cm_rf.confusion_matrix)\n",
        "plt.show()"
      ],
      "metadata": {
        "colab": {
          "base_uri": "https://localhost:8080/",
          "height": 348
        },
        "id": "J_wge2kQXpNU",
        "outputId": "5b3e8cbc-8b50-4dd4-f68c-885f481c7db0"
      },
      "execution_count": 140,
      "outputs": [
        {
          "output_type": "stream",
          "name": "stdout",
          "text": [
            "Taxa de acerto =  84.46 %\n",
            "\n",
            "Matriz de confusão:\n",
            "\n"
          ]
        },
        {
          "output_type": "display_data",
          "data": {
            "text/plain": [
              "<Figure size 432x288 with 2 Axes>"
            ],
            "image/png": "[encoded data removed]"
          },
          "metadata": {
            "needs_background": "light"
          }
        }
      ]
    },
    {
      "cell_type": "markdown",
      "source": [
        "# Tarefa 5.4 - Redes Neurais MLP com Keras/TensorFlow: predição Churn - Churn_Modelling_2\n"
      ],
      "metadata": {
        "id": "FkBtgr3Z-rf2"
      }
    },
    {
      "cell_type": "code",
      "source": [
        "import matplotlib.pyplot as plt\n",
        "\n",
        "from keras.layers import Dense\n",
        "from keras.models import Sequential\n",
        "from sklearn.model_selection import cross_val_score\n",
        "from sklearn.metrics import confusion_matrix"
      ],
      "metadata": {
        "id": "pqPA1y2I-9HX"
      },
      "execution_count": 141,
      "outputs": []
    },
    {
      "cell_type": "markdown",
      "source": [
        "### 1-) Os 3 primeiros atributos devem ser excluídos (RowNumber, CustomerId e Surname)\n",
        "\n",
        "### 2-) Os dados devem ser pré-processados (recuperar o que foi feito na Tarefa 5.1) \n",
        "\n",
        "### 3-) Divida o conjunto de dados em treino (75%) e teste (25%);\n",
        "\n",
        "- Realizados na tarefa anterior (Tarefa 5-1)"
      ],
      "metadata": {
        "id": "vyHpEIwVFjl6"
      }
    },
    {
      "cell_type": "markdown",
      "source": [
        "### 4-) Mostrar os gráficos da função Loss e de Acurácia para os dados de treinamento e teste (validação);\n",
        "\n",
        "### 5-) Calcule também a matriz de confusão para avaliar o desempenho do modelo."
      ],
      "metadata": {
        "id": "EZ9Er2SuGatd"
      }
    },
    {
      "cell_type": "markdown",
      "source": [
        "#### Criação do Modelo da Rede Neural"
      ],
      "metadata": {
        "id": "_HljHaqr3bjg"
      }
    },
    {
      "cell_type": "code",
      "source": [
        "model = Sequential()\n",
        "# 1a. camada escondida com 16 neurônios - 11 entradas (atributos)\n",
        "model.add(Dense(16, input_dim=11, kernel_initializer = 'he_uniform', activation='relu'))\n",
        "# 2a. camada escondida com 8 neurônios\n",
        "model.add(Dense(8, kernel_initializer = 'he_uniform', activation='relu'))\n",
        "# Camada de saída com 01 neurônio - Classificação binária (Democrat or Republican)\n",
        "model.add(Dense(1, activation='sigmoid'))\n",
        "# Sumário do modelo\n",
        "model.summary()"
      ],
      "metadata": {
        "colab": {
          "base_uri": "https://localhost:8080/"
        },
        "id": "_ys_JtCEFjwb",
        "outputId": "28334904-7790-45c9-edb1-d8b0268d548f"
      },
      "execution_count": 142,
      "outputs": [
        {
          "output_type": "stream",
          "name": "stdout",
          "text": [
            "Model: \"sequential_13\"\n",
            "_________________________________________________________________\n",
            " Layer (type)                Output Shape              Param #   \n",
            "=================================================================\n",
            " dense_44 (Dense)            (None, 16)                192       \n",
            "                                                                 \n",
            " dense_45 (Dense)            (None, 8)                 136       \n",
            "                                                                 \n",
            " dense_46 (Dense)            (None, 1)                 9         \n",
            "                                                                 \n",
            "=================================================================\n",
            "Total params: 337\n",
            "Trainable params: 337\n",
            "Non-trainable params: 0\n",
            "_________________________________________________________________\n"
          ]
        }
      ]
    },
    {
      "cell_type": "markdown",
      "source": [
        "#### Compilação do Modelo de Rede Neural"
      ],
      "metadata": {
        "id": "Dje5OtSq3ntQ"
      }
    },
    {
      "cell_type": "code",
      "source": [
        "model.compile(optimizer='adam', loss='binary_crossentropy', metrics=['accuracy'])"
      ],
      "metadata": {
        "id": "I2ga2n9ycAhc"
      },
      "execution_count": 143,
      "outputs": []
    },
    {
      "cell_type": "markdown",
      "source": [
        "#### Treino do Modelo"
      ],
      "metadata": {
        "id": "YHjQBEeu3zct"
      }
    },
    {
      "cell_type": "code",
      "source": [
        "history = model.fit(X_train, y_train, epochs=100, batch_size = 8, validation_data=(X_test, y_test))"
      ],
      "metadata": {
        "colab": {
          "base_uri": "https://localhost:8080/"
        },
        "id": "G3cDBsyScMDV",
        "outputId": "b5d13449-f4d0-4d7e-91da-f347ede9b6ef"
      },
      "execution_count": 144,
      "outputs": [
        {
          "output_type": "stream",
          "name": "stdout",
          "text": [
            "Epoch 1/100\n",
            "937/937 [==============================] - 4s 4ms/step - loss: 0.5106 - accuracy: 0.7717 - val_loss: 0.4447 - val_accuracy: 0.8110\n",
            "Epoch 2/100\n",
            "937/937 [==============================] - 3s 3ms/step - loss: 0.4193 - accuracy: 0.8197 - val_loss: 0.4153 - val_accuracy: 0.8314\n",
            "Epoch 3/100\n",
            "937/937 [==============================] - 3s 3ms/step - loss: 0.3886 - accuracy: 0.8395 - val_loss: 0.3912 - val_accuracy: 0.8382\n",
            "Epoch 4/100\n",
            "937/937 [==============================] - 3s 4ms/step - loss: 0.3662 - accuracy: 0.8519 - val_loss: 0.3782 - val_accuracy: 0.8470\n",
            "Epoch 5/100\n",
            "937/937 [==============================] - 3s 3ms/step - loss: 0.3561 - accuracy: 0.8527 - val_loss: 0.3702 - val_accuracy: 0.8542\n",
            "Epoch 6/100\n",
            "937/937 [==============================] - 3s 3ms/step - loss: 0.3505 - accuracy: 0.8555 - val_loss: 0.3630 - val_accuracy: 0.8506\n",
            "Epoch 7/100\n",
            "937/937 [==============================] - 3s 3ms/step - loss: 0.3463 - accuracy: 0.8566 - val_loss: 0.3627 - val_accuracy: 0.8546\n",
            "Epoch 8/100\n",
            "937/937 [==============================] - 3s 3ms/step - loss: 0.3440 - accuracy: 0.8555 - val_loss: 0.3571 - val_accuracy: 0.8562\n",
            "Epoch 9/100\n",
            "937/937 [==============================] - 3s 3ms/step - loss: 0.3412 - accuracy: 0.8570 - val_loss: 0.3588 - val_accuracy: 0.8554\n",
            "Epoch 10/100\n",
            "937/937 [==============================] - 3s 3ms/step - loss: 0.3402 - accuracy: 0.8593 - val_loss: 0.3548 - val_accuracy: 0.8570\n",
            "Epoch 11/100\n",
            "937/937 [==============================] - 3s 3ms/step - loss: 0.3383 - accuracy: 0.8593 - val_loss: 0.3550 - val_accuracy: 0.8598\n",
            "Epoch 12/100\n",
            "937/937 [==============================] - 3s 3ms/step - loss: 0.3377 - accuracy: 0.8585 - val_loss: 0.3527 - val_accuracy: 0.8602\n",
            "Epoch 13/100\n",
            "937/937 [==============================] - 3s 3ms/step - loss: 0.3360 - accuracy: 0.8606 - val_loss: 0.3556 - val_accuracy: 0.8594\n",
            "Epoch 14/100\n",
            "937/937 [==============================] - 4s 4ms/step - loss: 0.3344 - accuracy: 0.8625 - val_loss: 0.3535 - val_accuracy: 0.8566\n",
            "Epoch 15/100\n",
            "937/937 [==============================] - 3s 4ms/step - loss: 0.3342 - accuracy: 0.8609 - val_loss: 0.3513 - val_accuracy: 0.8602\n",
            "Epoch 16/100\n",
            "937/937 [==============================] - 3s 4ms/step - loss: 0.3333 - accuracy: 0.8609 - val_loss: 0.3520 - val_accuracy: 0.8610\n",
            "Epoch 17/100\n",
            "937/937 [==============================] - 3s 4ms/step - loss: 0.3323 - accuracy: 0.8602 - val_loss: 0.3535 - val_accuracy: 0.8574\n",
            "Epoch 18/100\n",
            "937/937 [==============================] - 3s 4ms/step - loss: 0.3314 - accuracy: 0.8614 - val_loss: 0.3534 - val_accuracy: 0.8622\n",
            "Epoch 19/100\n",
            "937/937 [==============================] - 3s 4ms/step - loss: 0.3307 - accuracy: 0.8625 - val_loss: 0.3507 - val_accuracy: 0.8606\n",
            "Epoch 20/100\n",
            "937/937 [==============================] - 3s 4ms/step - loss: 0.3299 - accuracy: 0.8627 - val_loss: 0.3517 - val_accuracy: 0.8598\n",
            "Epoch 21/100\n",
            "937/937 [==============================] - 3s 4ms/step - loss: 0.3291 - accuracy: 0.8618 - val_loss: 0.3529 - val_accuracy: 0.8566\n",
            "Epoch 22/100\n",
            "937/937 [==============================] - 3s 4ms/step - loss: 0.3285 - accuracy: 0.8639 - val_loss: 0.3611 - val_accuracy: 0.8570\n",
            "Epoch 23/100\n",
            "937/937 [==============================] - 3s 3ms/step - loss: 0.3283 - accuracy: 0.8627 - val_loss: 0.3528 - val_accuracy: 0.8566\n",
            "Epoch 24/100\n",
            "937/937 [==============================] - 3s 3ms/step - loss: 0.3277 - accuracy: 0.8619 - val_loss: 0.3555 - val_accuracy: 0.8566\n",
            "Epoch 25/100\n",
            "937/937 [==============================] - 3s 4ms/step - loss: 0.3266 - accuracy: 0.8629 - val_loss: 0.3511 - val_accuracy: 0.8598\n",
            "Epoch 26/100\n",
            "937/937 [==============================] - 3s 4ms/step - loss: 0.3265 - accuracy: 0.8638 - val_loss: 0.3546 - val_accuracy: 0.8590\n",
            "Epoch 27/100\n",
            "937/937 [==============================] - 3s 4ms/step - loss: 0.3254 - accuracy: 0.8645 - val_loss: 0.3516 - val_accuracy: 0.8574\n",
            "Epoch 28/100\n",
            "937/937 [==============================] - 3s 4ms/step - loss: 0.3252 - accuracy: 0.8634 - val_loss: 0.3536 - val_accuracy: 0.8570\n",
            "Epoch 29/100\n",
            "937/937 [==============================] - 3s 4ms/step - loss: 0.3246 - accuracy: 0.8649 - val_loss: 0.3509 - val_accuracy: 0.8594\n",
            "Epoch 30/100\n",
            "937/937 [==============================] - 3s 4ms/step - loss: 0.3246 - accuracy: 0.8665 - val_loss: 0.3525 - val_accuracy: 0.8590\n",
            "Epoch 31/100\n",
            "937/937 [==============================] - 3s 4ms/step - loss: 0.3238 - accuracy: 0.8645 - val_loss: 0.3515 - val_accuracy: 0.8594\n",
            "Epoch 32/100\n",
            "937/937 [==============================] - 3s 4ms/step - loss: 0.3239 - accuracy: 0.8642 - val_loss: 0.3523 - val_accuracy: 0.8570\n",
            "Epoch 33/100\n",
            "937/937 [==============================] - 3s 4ms/step - loss: 0.3231 - accuracy: 0.8669 - val_loss: 0.3517 - val_accuracy: 0.8570\n",
            "Epoch 34/100\n",
            "937/937 [==============================] - 3s 4ms/step - loss: 0.3229 - accuracy: 0.8662 - val_loss: 0.3531 - val_accuracy: 0.8606\n",
            "Epoch 35/100\n",
            "937/937 [==============================] - 3s 4ms/step - loss: 0.3222 - accuracy: 0.8645 - val_loss: 0.3587 - val_accuracy: 0.8562\n",
            "Epoch 36/100\n",
            "937/937 [==============================] - 3s 4ms/step - loss: 0.3207 - accuracy: 0.8662 - val_loss: 0.3569 - val_accuracy: 0.8546\n",
            "Epoch 37/100\n",
            "937/937 [==============================] - 3s 4ms/step - loss: 0.3212 - accuracy: 0.8658 - val_loss: 0.3562 - val_accuracy: 0.8590\n",
            "Epoch 38/100\n",
            "937/937 [==============================] - 3s 4ms/step - loss: 0.3217 - accuracy: 0.8650 - val_loss: 0.3525 - val_accuracy: 0.8590\n",
            "Epoch 39/100\n",
            "937/937 [==============================] - 3s 4ms/step - loss: 0.3208 - accuracy: 0.8663 - val_loss: 0.3579 - val_accuracy: 0.8582\n",
            "Epoch 40/100\n",
            "937/937 [==============================] - 3s 3ms/step - loss: 0.3203 - accuracy: 0.8679 - val_loss: 0.3561 - val_accuracy: 0.8554\n",
            "Epoch 41/100\n",
            "937/937 [==============================] - 3s 4ms/step - loss: 0.3207 - accuracy: 0.8658 - val_loss: 0.3570 - val_accuracy: 0.8570\n",
            "Epoch 42/100\n",
            "937/937 [==============================] - 3s 4ms/step - loss: 0.3200 - accuracy: 0.8654 - val_loss: 0.3560 - val_accuracy: 0.8554\n",
            "Epoch 43/100\n",
            "937/937 [==============================] - 3s 4ms/step - loss: 0.3193 - accuracy: 0.8657 - val_loss: 0.3541 - val_accuracy: 0.8582\n",
            "Epoch 44/100\n",
            "937/937 [==============================] - 3s 3ms/step - loss: 0.3185 - accuracy: 0.8673 - val_loss: 0.3525 - val_accuracy: 0.8562\n",
            "Epoch 45/100\n",
            "937/937 [==============================] - 3s 4ms/step - loss: 0.3186 - accuracy: 0.8661 - val_loss: 0.3539 - val_accuracy: 0.8566\n",
            "Epoch 46/100\n",
            "937/937 [==============================] - 3s 4ms/step - loss: 0.3190 - accuracy: 0.8670 - val_loss: 0.3540 - val_accuracy: 0.8590\n",
            "Epoch 47/100\n",
            "937/937 [==============================] - 3s 4ms/step - loss: 0.3185 - accuracy: 0.8659 - val_loss: 0.3612 - val_accuracy: 0.8558\n",
            "Epoch 48/100\n",
            "937/937 [==============================] - 3s 4ms/step - loss: 0.3174 - accuracy: 0.8681 - val_loss: 0.3540 - val_accuracy: 0.8582\n",
            "Epoch 49/100\n",
            "937/937 [==============================] - 3s 3ms/step - loss: 0.3176 - accuracy: 0.8689 - val_loss: 0.3560 - val_accuracy: 0.8566\n",
            "Epoch 50/100\n",
            "937/937 [==============================] - 3s 4ms/step - loss: 0.3168 - accuracy: 0.8698 - val_loss: 0.3546 - val_accuracy: 0.8554\n",
            "Epoch 51/100\n",
            "937/937 [==============================] - 3s 3ms/step - loss: 0.3170 - accuracy: 0.8679 - val_loss: 0.3577 - val_accuracy: 0.8550\n",
            "Epoch 52/100\n",
            "937/937 [==============================] - 3s 3ms/step - loss: 0.3162 - accuracy: 0.8682 - val_loss: 0.3548 - val_accuracy: 0.8578\n",
            "Epoch 53/100\n",
            "937/937 [==============================] - 3s 3ms/step - loss: 0.3167 - accuracy: 0.8673 - val_loss: 0.3592 - val_accuracy: 0.8546\n",
            "Epoch 54/100\n",
            "937/937 [==============================] - 3s 4ms/step - loss: 0.3163 - accuracy: 0.8703 - val_loss: 0.3560 - val_accuracy: 0.8558\n",
            "Epoch 55/100\n",
            "937/937 [==============================] - 3s 3ms/step - loss: 0.3154 - accuracy: 0.8655 - val_loss: 0.3624 - val_accuracy: 0.8550\n",
            "Epoch 56/100\n",
            "937/937 [==============================] - 3s 3ms/step - loss: 0.3154 - accuracy: 0.8673 - val_loss: 0.3622 - val_accuracy: 0.8558\n",
            "Epoch 57/100\n",
            "937/937 [==============================] - 3s 4ms/step - loss: 0.3149 - accuracy: 0.8673 - val_loss: 0.3587 - val_accuracy: 0.8574\n",
            "Epoch 58/100\n",
            "937/937 [==============================] - 3s 4ms/step - loss: 0.3142 - accuracy: 0.8667 - val_loss: 0.3599 - val_accuracy: 0.8590\n",
            "Epoch 59/100\n",
            "937/937 [==============================] - 3s 4ms/step - loss: 0.3134 - accuracy: 0.8678 - val_loss: 0.3616 - val_accuracy: 0.8546\n",
            "Epoch 60/100\n",
            "937/937 [==============================] - 3s 4ms/step - loss: 0.3141 - accuracy: 0.8683 - val_loss: 0.3596 - val_accuracy: 0.8546\n",
            "Epoch 61/100\n",
            "937/937 [==============================] - 3s 4ms/step - loss: 0.3145 - accuracy: 0.8673 - val_loss: 0.3596 - val_accuracy: 0.8590\n",
            "Epoch 62/100\n",
            "937/937 [==============================] - 4s 4ms/step - loss: 0.3143 - accuracy: 0.8690 - val_loss: 0.3605 - val_accuracy: 0.8550\n",
            "Epoch 63/100\n",
            "937/937 [==============================] - 3s 4ms/step - loss: 0.3143 - accuracy: 0.8666 - val_loss: 0.3554 - val_accuracy: 0.8562\n",
            "Epoch 64/100\n",
            "937/937 [==============================] - 3s 4ms/step - loss: 0.3137 - accuracy: 0.8687 - val_loss: 0.3577 - val_accuracy: 0.8570\n",
            "Epoch 65/100\n",
            "937/937 [==============================] - 3s 4ms/step - loss: 0.3135 - accuracy: 0.8678 - val_loss: 0.3672 - val_accuracy: 0.8546\n",
            "Epoch 66/100\n",
            "937/937 [==============================] - 3s 4ms/step - loss: 0.3131 - accuracy: 0.8689 - val_loss: 0.3628 - val_accuracy: 0.8542\n",
            "Epoch 67/100\n",
            "937/937 [==============================] - 3s 4ms/step - loss: 0.3130 - accuracy: 0.8698 - val_loss: 0.3653 - val_accuracy: 0.8570\n",
            "Epoch 68/100\n",
            "937/937 [==============================] - 3s 4ms/step - loss: 0.3130 - accuracy: 0.8685 - val_loss: 0.3649 - val_accuracy: 0.8542\n",
            "Epoch 69/100\n",
            "937/937 [==============================] - 3s 4ms/step - loss: 0.3132 - accuracy: 0.8677 - val_loss: 0.3582 - val_accuracy: 0.8574\n",
            "Epoch 70/100\n",
            "937/937 [==============================] - 3s 4ms/step - loss: 0.3123 - accuracy: 0.8705 - val_loss: 0.3664 - val_accuracy: 0.8562\n",
            "Epoch 71/100\n",
            "937/937 [==============================] - 3s 3ms/step - loss: 0.3127 - accuracy: 0.8705 - val_loss: 0.3610 - val_accuracy: 0.8566\n",
            "Epoch 72/100\n",
            "937/937 [==============================] - 3s 4ms/step - loss: 0.3117 - accuracy: 0.8698 - val_loss: 0.3645 - val_accuracy: 0.8498\n",
            "Epoch 73/100\n",
            "937/937 [==============================] - 3s 4ms/step - loss: 0.3123 - accuracy: 0.8690 - val_loss: 0.3625 - val_accuracy: 0.8566\n",
            "Epoch 74/100\n",
            "937/937 [==============================] - 3s 4ms/step - loss: 0.3122 - accuracy: 0.8691 - val_loss: 0.3615 - val_accuracy: 0.8566\n",
            "Epoch 75/100\n",
            "937/937 [==============================] - 3s 4ms/step - loss: 0.3114 - accuracy: 0.8713 - val_loss: 0.3627 - val_accuracy: 0.8582\n",
            "Epoch 76/100\n",
            "937/937 [==============================] - 3s 4ms/step - loss: 0.3114 - accuracy: 0.8705 - val_loss: 0.3591 - val_accuracy: 0.8550\n",
            "Epoch 77/100\n",
            "937/937 [==============================] - 3s 4ms/step - loss: 0.3110 - accuracy: 0.8723 - val_loss: 0.3608 - val_accuracy: 0.8498\n",
            "Epoch 78/100\n",
            "937/937 [==============================] - 3s 4ms/step - loss: 0.3107 - accuracy: 0.8691 - val_loss: 0.3628 - val_accuracy: 0.8554\n",
            "Epoch 79/100\n",
            "937/937 [==============================] - 3s 4ms/step - loss: 0.3116 - accuracy: 0.8699 - val_loss: 0.3643 - val_accuracy: 0.8550\n",
            "Epoch 80/100\n",
            "937/937 [==============================] - 3s 4ms/step - loss: 0.3112 - accuracy: 0.8713 - val_loss: 0.3649 - val_accuracy: 0.8550\n",
            "Epoch 81/100\n",
            "937/937 [==============================] - 3s 4ms/step - loss: 0.3107 - accuracy: 0.8714 - val_loss: 0.3683 - val_accuracy: 0.8562\n",
            "Epoch 82/100\n",
            "937/937 [==============================] - 3s 4ms/step - loss: 0.3107 - accuracy: 0.8715 - val_loss: 0.3648 - val_accuracy: 0.8526\n",
            "Epoch 83/100\n",
            "937/937 [==============================] - 3s 4ms/step - loss: 0.3106 - accuracy: 0.8723 - val_loss: 0.3667 - val_accuracy: 0.8534\n",
            "Epoch 84/100\n",
            "937/937 [==============================] - 3s 4ms/step - loss: 0.3104 - accuracy: 0.8683 - val_loss: 0.3669 - val_accuracy: 0.8534\n",
            "Epoch 85/100\n",
            "937/937 [==============================] - 3s 3ms/step - loss: 0.3117 - accuracy: 0.8675 - val_loss: 0.3652 - val_accuracy: 0.8558\n",
            "Epoch 86/100\n",
            "937/937 [==============================] - 3s 4ms/step - loss: 0.3108 - accuracy: 0.8687 - val_loss: 0.3698 - val_accuracy: 0.8534\n",
            "Epoch 87/100\n",
            "937/937 [==============================] - 3s 4ms/step - loss: 0.3101 - accuracy: 0.8714 - val_loss: 0.3645 - val_accuracy: 0.8578\n",
            "Epoch 88/100\n",
            "937/937 [==============================] - 3s 4ms/step - loss: 0.3098 - accuracy: 0.8725 - val_loss: 0.3732 - val_accuracy: 0.8550\n",
            "Epoch 89/100\n",
            "937/937 [==============================] - 3s 4ms/step - loss: 0.3100 - accuracy: 0.8721 - val_loss: 0.3651 - val_accuracy: 0.8550\n",
            "Epoch 90/100\n",
            "937/937 [==============================] - 3s 4ms/step - loss: 0.3106 - accuracy: 0.8701 - val_loss: 0.3648 - val_accuracy: 0.8522\n",
            "Epoch 91/100\n",
            "937/937 [==============================] - 3s 4ms/step - loss: 0.3091 - accuracy: 0.8711 - val_loss: 0.3674 - val_accuracy: 0.8518\n",
            "Epoch 92/100\n",
            "937/937 [==============================] - 3s 3ms/step - loss: 0.3096 - accuracy: 0.8726 - val_loss: 0.3668 - val_accuracy: 0.8502\n",
            "Epoch 93/100\n",
            "937/937 [==============================] - 3s 4ms/step - loss: 0.3094 - accuracy: 0.8718 - val_loss: 0.3657 - val_accuracy: 0.8574\n",
            "Epoch 94/100\n",
            "937/937 [==============================] - 3s 4ms/step - loss: 0.3100 - accuracy: 0.8723 - val_loss: 0.3656 - val_accuracy: 0.8530\n",
            "Epoch 95/100\n",
            "937/937 [==============================] - 3s 4ms/step - loss: 0.3099 - accuracy: 0.8714 - val_loss: 0.3659 - val_accuracy: 0.8522\n",
            "Epoch 96/100\n",
            "937/937 [==============================] - 3s 4ms/step - loss: 0.3093 - accuracy: 0.8739 - val_loss: 0.3676 - val_accuracy: 0.8566\n",
            "Epoch 97/100\n",
            "937/937 [==============================] - 3s 4ms/step - loss: 0.3099 - accuracy: 0.8705 - val_loss: 0.3691 - val_accuracy: 0.8534\n",
            "Epoch 98/100\n",
            "937/937 [==============================] - 3s 3ms/step - loss: 0.3092 - accuracy: 0.8730 - val_loss: 0.3684 - val_accuracy: 0.8558\n",
            "Epoch 99/100\n",
            "937/937 [==============================] - 3s 4ms/step - loss: 0.3092 - accuracy: 0.8714 - val_loss: 0.3612 - val_accuracy: 0.8570\n",
            "Epoch 100/100\n",
            "937/937 [==============================] - 3s 4ms/step - loss: 0.3096 - accuracy: 0.8695 - val_loss: 0.3651 - val_accuracy: 0.8542\n"
          ]
        }
      ]
    },
    {
      "cell_type": "markdown",
      "source": [
        "#### Análise da Função Loss"
      ],
      "metadata": {
        "id": "uT8ceFqQ4Cqo"
      }
    },
    {
      "cell_type": "code",
      "source": [
        "plt.plot(history.history['loss'])\n",
        "plt.plot(history.history['val_loss'], '')\n",
        "plt.xlabel(\"Épocas\")\n",
        "plt.ylabel('Erro/loss')\n",
        "plt.title('Função erro/loss')\n",
        "plt.legend(['loss', 'val_loss'])\n",
        "plt.show()"
      ],
      "metadata": {
        "colab": {
          "base_uri": "https://localhost:8080/",
          "height": 297
        },
        "id": "aNEYKXW-eg-d",
        "outputId": "075dcabf-f4dd-4067-e542-0b9f67e03cc2"
      },
      "execution_count": 145,
      "outputs": [
        {
          "output_type": "display_data",
          "data": {
            "text/plain": [
              "<Figure size 432x288 with 1 Axes>"
            ],
            "image/png": "[encoded data removed]"
          },
          "metadata": {
            "needs_background": "light"
          }
        }
      ]
    },
    {
      "cell_type": "markdown",
      "source": [
        "#### Análise da Métrica de Desenpenho"
      ],
      "metadata": {
        "id": "PbRbvCk24Is2"
      }
    },
    {
      "cell_type": "code",
      "source": [
        "plt.plot(history.history['accuracy'])\n",
        "plt.plot(history.history['val_accuracy'], '')\n",
        "plt.xlabel(\"Épocas\")\n",
        "plt.ylabel('Acurácia')\n",
        "plt.title('Acurácia')\n",
        "plt.legend(['acurácia', 'val_acurácia'])\n",
        "plt.show()"
      ],
      "metadata": {
        "colab": {
          "base_uri": "https://localhost:8080/",
          "height": 297
        },
        "id": "_9mBKrdr1zOv",
        "outputId": "3e64e7e0-ae5d-41b2-939e-9d2bc5a905ed"
      },
      "execution_count": 146,
      "outputs": [
        {
          "output_type": "display_data",
          "data": {
            "text/plain": [
              "<Figure size 432x288 with 1 Axes>"
            ],
            "image/png": "[encoded data removed]"
          },
          "metadata": {
            "needs_background": "light"
          }
        }
      ]
    },
    {
      "cell_type": "markdown",
      "source": [
        "### 5-) Calcule também a matriz de confusão para avaliar o desempenho do modelo."
      ],
      "metadata": {
        "id": "RNsHTgG73Qbx"
      }
    },
    {
      "cell_type": "code",
      "source": [
        "# Classificação dos dados de Teste\n",
        "y_pred = model.predict(X_test)\n",
        "y_pred = (y_pred > 0.5)\n",
        "\n",
        "# Calcula a Matriz de Confusão Sobre os Dados de Teste\n",
        "cm = confusion_matrix(y_test, y_pred)\n",
        "print(cm)"
      ],
      "metadata": {
        "colab": {
          "base_uri": "https://localhost:8080/"
        },
        "id": "9fQDYJLS2Oq2",
        "outputId": "92abd9ee-9d73-4f60-972b-72b78e1bcc64"
      },
      "execution_count": 147,
      "outputs": [
        {
          "output_type": "stream",
          "name": "stdout",
          "text": [
            "[[1886  102]\n",
            " [ 262  247]]\n"
          ]
        }
      ]
    }
  ]
}