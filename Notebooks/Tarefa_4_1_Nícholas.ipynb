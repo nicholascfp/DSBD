{
  "nbformat": 4,
  "nbformat_minor": 0,
  "metadata": {
    "colab": {
      "name": "Cópia de Modelos_probabilísticos_Binomial_Poisson.ipynb",
      "provenance": [],
      "collapsed_sections": [],
      "include_colab_link": true
    },
    "kernelspec": {
      "name": "python3",
      "display_name": "Python 3"
    },
    "language_info": {
      "name": "python"
    }
  },
  "cells": [
    {
      "cell_type": "markdown",
      "metadata": {
        "id": "view-in-github",
        "colab_type": "text"
      },
      "source": [
        "<a href=\"https://colab.research.google.com/github/nicholascfp/DSBD/blob/main/Notebooks/Tarefa_4_1_N%C3%ADcholas.ipynb\" target=\"_parent\"><img src=\"https://colab.research.google.com/assets/colab-badge.svg\" alt=\"Open In Colab\"/></a>"
      ]
    },
    {
      "cell_type": "markdown",
      "metadata": {
        "id": "xpAuMVCwfWs8"
      },
      "source": [
        "# Nícholas César F. Pereira\n",
        "\n",
        "---\n",
        "# Data Science & Big Data\n",
        "---\n",
        "# Tarefa 4.1 - Modelos Probabilísticos\n",
        "\n",
        "Este notebook apresenta exemplos de cálculos de probabilidades a partir dos modelos de distribuição de probabilidades Binomial, Poisson e Gaussiana utilizando funções da linguagem Python.\n",
        "\n",
        "---\n",
        "\n",
        "\n",
        "\n",
        "\n",
        "\n",
        "\n"
      ]
    },
    {
      "cell_type": "markdown",
      "source": [
        "##*2-) FAÇA O EXERCÍCIO NO. 14 DA UNIDADE 4 (SLIDE 77). CONFIRA POR MEIO DA FUNÇÃO/BIBLIOTECA PYTHON CORRESPONDENTE.*\n",
        "\n",
        "###*O número médio de acidentes mensais em um determinado cruzamento é três. Qual é a probabilidade de que em um determinado mês ocorram quatro acidentes no cruzamento?*"
      ],
      "metadata": {
        "id": "NxVaTPmxGkA8"
      }
    },
    {
      "cell_type": "code",
      "source": [
        "import math\n",
        "from scipy import stats\n",
        "\n",
        "k = 4\n",
        "lamb = 3\n",
        "\n",
        "print('Poisson Hard Mode: ')\n",
        "print('\\nProbability that in a given month there will be four accidents at the intersection: ')\n",
        "poi_hm = (math.pow(math.e, -lamb) * (math.pow(lamb, k) / math.factorial(k))) *100\n",
        "print(str(round(poi_hm, 2)) + '%')\n",
        "\n",
        "print('\\nPoisson Easy Mode: ')\n",
        "print('\\nProbability that in a given month there will be four accidents at the intersection: ')\n",
        "poi = stats.poisson.pmf(k, lamb) * 100\n",
        "print(str(round(poi, 2)) + '%')\n"
      ],
      "metadata": {
        "colab": {
          "base_uri": "https://localhost:8080/"
        },
        "id": "WhpQGs8qGm9-",
        "outputId": "670e84b7-c502-49e9-c3ce-f165cdd4f8b2"
      },
      "execution_count": 1,
      "outputs": [
        {
          "output_type": "stream",
          "name": "stdout",
          "text": [
            "Poisson Hard Mode: \n",
            "\n",
            "Probability that in a given month there will be four accidents at the intersection: \n",
            "16.8%\n",
            "\n",
            "Poisson Easy Mode: \n",
            "\n",
            "Probability that in a given month there will be four accidents at the intersection: \n",
            "16.8%\n"
          ]
        }
      ]
    },
    {
      "cell_type": "markdown",
      "source": [
        "##*3-) FAÇA O EXERCÍCIO NO. 18 DA UNIDADE 4 (SLIDE 78). CONFIRA POR MEIO DA FUNÇÃO/BIBLIOTECA PYTHON CORRESPONDENTE.*\n",
        "\n",
        "###*Se a probabilidade de atingir um alvo num único disparo é 0.3, qual é a probabilidade de que em 4 disparos o alvo seja atingido no mínimo 3 vezes?*\n"
      ],
      "metadata": {
        "id": "OeojTAmVSQRw"
      }
    },
    {
      "cell_type": "code",
      "source": [
        "n = 4\n",
        "k1 = 3\n",
        "k2 = 4\n",
        "p = 0.3\n",
        "\n",
        "\n",
        "print('Binominal Hard Mode K = 3: ')\n",
        "bin_hm1 = (math.factorial(n)) / (math.factorial(k1) * math.factorial(n - k1)) * math.pow(p, k1) * math.pow(1 - p, n - k1)\n",
        "print(str(round(bin_hm1, 4)))\n",
        "\n",
        "print('\\nBinominal Hard Mode K = 4: ')\n",
        "bin_hm2 = (math.factorial(n)) / (math.factorial(k2) * math.factorial(n - k2)) * math.pow(p, k2) * math.pow(1 - p, n - k2)\n",
        "print(str(round(bin_hm2, 4)))\n",
        "\n",
        "print('\\nBinominal Easy Mode  K = 3: ')\n",
        "bin1 = stats.binom.pmf(k1, n, p)\n",
        "print(str(round(bin1, 4)))\n",
        "\n",
        "print('\\nBinominal Easy Mode  K = 4: ')\n",
        "bin2 = stats.binom.pmf(k2, n, p)\n",
        "print(str(round(bin2, 4)))\n",
        "\n",
        "print('\\nProbability that in 4 shots the target is hit at least 3 times: ')\n",
        "bin = (bin1 + bin2) * 100\n",
        "print(str(round(bin, 2)) + '%')"
      ],
      "metadata": {
        "colab": {
          "base_uri": "https://localhost:8080/"
        },
        "id": "anvwk1-zSn_Y",
        "outputId": "6bcf3f82-3397-46be-e31e-116094cb7bd5"
      },
      "execution_count": 2,
      "outputs": [
        {
          "output_type": "stream",
          "name": "stdout",
          "text": [
            "Binominal Hard Mode K = 3: \n",
            "0.0756\n",
            "\n",
            "Binominal Hard Mode K = 4: \n",
            "0.0081\n",
            "\n",
            "Binominal Easy Mode  K = 3: \n",
            "0.0756\n",
            "\n",
            "Binominal Easy Mode  K = 4: \n",
            "0.0081\n",
            "\n",
            "Probability that in 4 shots the target is hit at least 3 times: \n",
            "8.37%\n"
          ]
        }
      ]
    },
    {
      "cell_type": "markdown",
      "source": [
        "##*4-) FAÇA O EXERCÍCIO NO. 22 DA UNIDADE 4 (SLIDE 110). CONFIRA POR MEIO DA FUNÇÃO/BIBLIOTECA PYTHON CORRESPONDENTE.*\n",
        "\n",
        "###*O número de horas semanais que os adultos norte-americanos gastam em frente ao computador em casa é normalmente distribuído, com média de 5 horas e desvio padrão de 1 hora.  Um adulto foi selecionado ao acaso.*\n",
        "\n",
        "a) Obtenha a probabilidade de o número de horas gastas no computador pelo adulto ser inferior a 2,5 semanais.\n",
        "\n",
        "b) Obtenha a probabilidade de o número de horas gastas no computador pelo adulto estar entre 2,5 e 7,5.\n",
        "\n",
        "c) Obtenha a probabilidade de o número de horas gastas no computador ser superior a 7,5 horas semanais."
      ],
      "metadata": {
        "id": "aGviRT0kqNRs"
      }
    },
    {
      "cell_type": "code",
      "source": [
        "mu = 5 # média\n",
        "sigma = 1 # desvio padrão"
      ],
      "metadata": {
        "id": "7Par5ANJTLo9"
      },
      "execution_count": 3,
      "outputs": []
    },
    {
      "cell_type": "markdown",
      "source": [
        "item a-)"
      ],
      "metadata": {
        "id": "AMyA3V4_PLgZ"
      }
    },
    {
      "cell_type": "code",
      "source": [
        "x1 = 2.5\n",
        "print('Probability that the number of hours spent on the computer by the adult is less than 2.5 weekly: ')\n",
        "n1 = stats.norm.cdf(x1, mu, sigma) * 100\n",
        "print(str(round(n1, 2)) + '%')"
      ],
      "metadata": {
        "colab": {
          "base_uri": "https://localhost:8080/"
        },
        "id": "7uAjEp2yPJwp",
        "outputId": "5d7657bd-d2d6-465c-fe6a-163f1a14ee2a"
      },
      "execution_count": 23,
      "outputs": [
        {
          "output_type": "stream",
          "name": "stdout",
          "text": [
            "Probability that the number of hours spent on the computer by the adult is less than 2.5 weekly: \n",
            "0.62%\n"
          ]
        }
      ]
    },
    {
      "cell_type": "markdown",
      "source": [
        "item b-)"
      ],
      "metadata": {
        "id": "63htvTEePSyk"
      }
    },
    {
      "cell_type": "code",
      "source": [
        "x1 = 2.5\n",
        "x2 = 7.5\n",
        "print('Probability that the number of hours spent on the computer by the adult is between 2.5 and 7.5 weekly: ')\n",
        "n2 = (stats.norm.cdf(x2, mu, sigma) - stats.norm.cdf(x1, mu, sigma)) * 100\n",
        "print(str(round(n2, 2)) + '%')"
      ],
      "metadata": {
        "colab": {
          "base_uri": "https://localhost:8080/"
        },
        "id": "ESZbp9flPTIJ",
        "outputId": "f71e0c3d-b7f1-4820-a9b9-c9d82818ba7d"
      },
      "execution_count": 22,
      "outputs": [
        {
          "output_type": "stream",
          "name": "stdout",
          "text": [
            "Probability that the number of hours spent on the computer by the adult is between 2.5 and 7.5 weekly: \n",
            "98.76%\n"
          ]
        }
      ]
    },
    {
      "cell_type": "markdown",
      "source": [
        "item c-)"
      ],
      "metadata": {
        "id": "DmmCpbinPTS2"
      }
    },
    {
      "cell_type": "code",
      "source": [
        "x2 = 7.5\n",
        "print('Probability that the number of hours spent on the computer by the adult is between 2.5 and 7.5 weekly: ')\n",
        "n3 = (1 - stats.norm.cdf(x2, mu, sigma)) * 100\n",
        "print(str(round(n3, 2)) + '%')"
      ],
      "metadata": {
        "colab": {
          "base_uri": "https://localhost:8080/"
        },
        "id": "yr665opZPThy",
        "outputId": "1c3b7dab-de8b-4eef-dc69-ad40db31e129"
      },
      "execution_count": 25,
      "outputs": [
        {
          "output_type": "stream",
          "name": "stdout",
          "text": [
            "Probability that the number of hours spent on the computer by the adult is between 2.5 and 7.5 weekly: \n",
            "0.62%\n"
          ]
        }
      ]
    }
  ]
}